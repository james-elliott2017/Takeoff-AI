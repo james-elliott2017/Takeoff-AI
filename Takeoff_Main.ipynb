{
 "cells": [
  {
   "cell_type": "markdown",
   "metadata": {},
   "source": [
    "# To Do List  \n",
    "1. Figure out why .get_pixmap() is failing  \n",
    "2. Complete Text_Based solution including standard location for pdf_input  \n",
    "3. Test with completely new project, and make sure everything works\n",
    "4. join PDF_to_text & text_counter() --> Remember each section requires its own text file."
   ]
  },
  {
   "cell_type": "markdown",
   "metadata": {},
   "source": [
    "# Description  \n",
    "Notebook is used as a place for using TakeoffAI with ease. Each cell is broken up into a step needed"
   ]
  },
  {
   "cell_type": "code",
   "execution_count": 9,
   "metadata": {},
   "outputs": [
    {
     "name": "stdout",
     "output_type": "stream",
     "text": [
      "Imports Complete\n"
     ]
    }
   ],
   "source": [
    "#STEP 1 --> Import Mandatory Code\n",
    "import os\n",
    "import fitz\n",
    "\n",
    "from AutoCount.AutocountMain import img_count\n",
    "from TextCount.TextExtractorMain import text_counter\n",
    "from TextCount.PDF_to_txt import main as pdf_main\n",
    "from TextCount.PDF_to_txt import find_pixels\n",
    "print(\"Imports Complete\")\n",
    "walker_dir = r\"C:\\Users\\james\\OneDrive\\Documents\\Coding Projects\\Python Projects\\Takeoff AI\\Walker Projects\""
   ]
  },
  {
   "cell_type": "code",
   "execution_count": 10,
   "metadata": {},
   "outputs": [],
   "source": [
    "#STEP 2 --> Project Setup, Update JOb Specific & Path Requirements\n",
    "\n",
    "#AutoCount & Text Requirements\n",
    "project = r\"6082 Sunnyville Civic Center\"\n",
    "division = r\"Data_Floor\" #text_extractor ONLY --- FAZE OUT SOON"
   ]
  },
  {
   "cell_type": "code",
   "execution_count": 11,
   "metadata": {},
   "outputs": [
    {
     "name": "stdout",
     "output_type": "stream",
     "text": [
      "folder already exists\n"
     ]
    }
   ],
   "source": [
    "###LOAD PROJECT###\n",
    "AutoCount_Class = img_count()\n",
    "working_dir = AutoCount_Class.create_project(project) #works as a loader also"
   ]
  },
  {
   "cell_type": "markdown",
   "metadata": {},
   "source": [
    "## Picture Counting Only  \n",
    "Code for counting objects using picures"
   ]
  },
  {
   "cell_type": "code",
   "execution_count": 5,
   "metadata": {},
   "outputs": [
    {
     "name": "stdout",
     "output_type": "stream",
     "text": [
      "symbol_names: []\n",
      "output: {}\n"
     ]
    }
   ],
   "source": [
    "###AutoCount###\n",
    "AutoCount_Class.threshold = 0.85\n",
    "AutoCount_Class.run_counts(working_dir,is_dir=True)"
   ]
  },
  {
   "cell_type": "markdown",
   "metadata": {},
   "source": [
    "## Convert PDF to Text.  \n",
    "\n",
    "**This must be done before you run Text Counting**"
   ]
  },
  {
   "cell_type": "code",
   "execution_count": 13,
   "metadata": {},
   "outputs": [
    {
     "name": "stdout",
     "output_type": "stream",
     "text": [
      "Please find rectange dimensions, and than rerun IF you did not mean to convert the entire page\n"
     ]
    },
    {
     "ename": "AttributeError",
     "evalue": "'Page' object has no attribute 'get_pixmap'",
     "output_type": "error",
     "traceback": [
      "\u001b[1;31m---------------------------------------------------------------------------\u001b[0m",
      "\u001b[1;31mAttributeError\u001b[0m                            Traceback (most recent call last)",
      "\u001b[1;32m<ipython-input-13-373b9eac3652>\u001b[0m in \u001b[0;36m<module>\u001b[1;34m\u001b[0m\n\u001b[0;32m      6\u001b[0m \u001b[1;33m\u001b[0m\u001b[0m\n\u001b[0;32m      7\u001b[0m \u001b[1;31m# save_dir = working_dir,input_pdf = input_file,output_txt = output_file\u001b[0m\u001b[1;33m\u001b[0m\u001b[1;33m\u001b[0m\u001b[1;33m\u001b[0m\u001b[0m\n\u001b[1;32m----> 8\u001b[1;33m \u001b[0mpdf_main\u001b[0m\u001b[1;33m(\u001b[0m\u001b[1;33m)\u001b[0m\u001b[1;33m\u001b[0m\u001b[1;33m\u001b[0m\u001b[0m\n\u001b[0m",
      "\u001b[1;32m~\\OneDrive\\Documents\\Coding Projects\\Python Projects\\Takeoff AI\\TextCount\\PDF_to_txt.py\u001b[0m in \u001b[0;36mmain\u001b[1;34m(rectangle, save_dir, input_pdf, output_txt)\u001b[0m\n\u001b[0;32m     74\u001b[0m \u001b[1;33m\u001b[0m\u001b[0m\n\u001b[0;32m     75\u001b[0m         \u001b[1;31m###Initialize Text & Save the First Page in as an image for width Extraction\u001b[0m\u001b[1;33m\u001b[0m\u001b[1;33m\u001b[0m\u001b[1;33m\u001b[0m\u001b[0m\n\u001b[1;32m---> 76\u001b[1;33m         \u001b[0mconverter\u001b[0m \u001b[1;33m=\u001b[0m \u001b[0mpdf_to_txt\u001b[0m\u001b[1;33m(\u001b[0m\u001b[0msave_dir\u001b[0m\u001b[1;33m,\u001b[0m\u001b[0mpath_in\u001b[0m\u001b[1;33m)\u001b[0m \u001b[1;31m# instantiate\u001b[0m\u001b[1;33m\u001b[0m\u001b[1;33m\u001b[0m\u001b[0m\n\u001b[0m\u001b[0;32m     77\u001b[0m         \u001b[0mconverter\u001b[0m\u001b[1;33m.\u001b[0m\u001b[0msave_pixmap\u001b[0m\u001b[1;33m(\u001b[0m\u001b[1;33m)\u001b[0m \u001b[1;31m# save_pixmap for box dimensions\u001b[0m\u001b[1;33m\u001b[0m\u001b[1;33m\u001b[0m\u001b[0m\n\u001b[0;32m     78\u001b[0m         \u001b[0mconverter\u001b[0m\u001b[1;33m.\u001b[0m\u001b[0mview_pixmap\u001b[0m\u001b[1;33m(\u001b[0m\u001b[0mwindows_pc\u001b[0m \u001b[1;33m=\u001b[0m \u001b[1;32mTrue\u001b[0m\u001b[1;33m)\u001b[0m \u001b[1;31m#WAITS FOR PAINT TO CLOSE, BEFORE CONTINUING\u001b[0m\u001b[1;33m\u001b[0m\u001b[1;33m\u001b[0m\u001b[0m\n",
      "\u001b[1;32m~\\OneDrive\\Documents\\Coding Projects\\Python Projects\\Takeoff AI\\TextCount\\PDF_to_txt.py\u001b[0m in \u001b[0;36msave_pixmap\u001b[1;34m(self, page_num)\u001b[0m\n\u001b[0;32m     23\u001b[0m                 \u001b[1;32mreturn\u001b[0m \u001b[0mpage_text\u001b[0m\u001b[1;33m\u001b[0m\u001b[1;33m\u001b[0m\u001b[0m\n\u001b[0;32m     24\u001b[0m         \u001b[1;32mdef\u001b[0m \u001b[0msave_pixmap\u001b[0m\u001b[1;33m(\u001b[0m\u001b[0mself\u001b[0m\u001b[1;33m,\u001b[0m\u001b[0mpage_num\u001b[0m\u001b[1;33m=\u001b[0m\u001b[1;36m0\u001b[0m\u001b[1;33m)\u001b[0m\u001b[1;33m:\u001b[0m\u001b[1;33m\u001b[0m\u001b[1;33m\u001b[0m\u001b[0m\n\u001b[1;32m---> 25\u001b[1;33m                 \u001b[0mpixmap\u001b[0m \u001b[1;33m=\u001b[0m \u001b[0mself\u001b[0m\u001b[1;33m.\u001b[0m\u001b[0mpdf_obj\u001b[0m\u001b[1;33m[\u001b[0m\u001b[0mpage_num\u001b[0m\u001b[1;33m]\u001b[0m\u001b[1;33m\u001b[0m\u001b[1;33m\u001b[0m\u001b[0m\n\u001b[0m\u001b[0;32m     26\u001b[0m                 \u001b[0mpixmap\u001b[0m \u001b[1;33m=\u001b[0m \u001b[0mpixmap\u001b[0m\u001b[1;33m.\u001b[0m\u001b[0mget_pixmap\u001b[0m\u001b[1;33m(\u001b[0m\u001b[1;33m)\u001b[0m\u001b[1;33m\u001b[0m\u001b[1;33m\u001b[0m\u001b[0m\n\u001b[0;32m     27\u001b[0m                 \u001b[0mpixmap\u001b[0m\u001b[1;33m.\u001b[0m\u001b[0msave\u001b[0m\u001b[1;33m(\u001b[0m\u001b[0mos\u001b[0m\u001b[1;33m.\u001b[0m\u001b[0mpath\u001b[0m\u001b[1;33m.\u001b[0m\u001b[0mjoin\u001b[0m\u001b[1;33m(\u001b[0m\u001b[0mself\u001b[0m\u001b[1;33m.\u001b[0m\u001b[0mdir\u001b[0m\u001b[1;33m,\u001b[0m\u001b[1;34m\"output.png\"\u001b[0m\u001b[1;33m)\u001b[0m\u001b[1;33m)\u001b[0m\u001b[1;33m\u001b[0m\u001b[1;33m\u001b[0m\u001b[0m\n",
      "\u001b[1;31mAttributeError\u001b[0m: 'Page' object has no attribute 'get_pixmap'"
     ]
    }
   ],
   "source": [
    "#Find Pixel Values\n",
    "\n",
    "working_dir = os.path.join(walker_dir,project,\"Misc_Files\") #job directory we are working out of\n",
    "input_file = r\"2020-0808 SV DWGS BID SET Vol 3C.pdf\" #input_pdf name\n",
    "output_file = r\"output.txt\" #complete output pdf path\n",
    "\n",
    "# save_dir = working_dir,input_pdf = input_file,output_txt = output_file\n",
    "pdf_main()"
   ]
  },
  {
   "cell_type": "code",
   "execution_count": null,
   "metadata": {},
   "outputs": [],
   "source": [
    "# box coordinate (x0,yo,x1,y1) = (top_left_x,top_left,y,bot_right_x,bot_right_y)\n",
    "top_left_x = 1\n",
    "top_left_y = 2\n",
    "bot_right_x = 3\n",
    "bot_right_y = 4\n",
    "\n",
    "rectangle = (top_left_x,top_left_y,bot_right_x,bot_right_y)"
   ]
  },
  {
   "cell_type": "code",
   "execution_count": 14,
   "metadata": {},
   "outputs": [
    {
     "name": "stdout",
     "output_type": "stream",
     "text": [
      "Python 3.9.5\n"
     ]
    }
   ],
   "source": [
    "!python --version"
   ]
  },
  {
   "cell_type": "markdown",
   "metadata": {},
   "source": [
    "## Text Counting\n",
    "Code for counting via words/text  \n",
    "\n",
    "**Do NOT forget to update .json before running below**"
   ]
  }
 ],
 "metadata": {
  "kernelspec": {
   "display_name": "Python 3",
   "language": "python",
   "name": "python3"
  },
  "language_info": {
   "codemirror_mode": {
    "name": "ipython",
    "version": 3
   },
   "file_extension": ".py",
   "mimetype": "text/x-python",
   "name": "python",
   "nbconvert_exporter": "python",
   "pygments_lexer": "ipython3",
   "version": "3.8.10"
  }
 },
 "nbformat": 4,
 "nbformat_minor": 4
}

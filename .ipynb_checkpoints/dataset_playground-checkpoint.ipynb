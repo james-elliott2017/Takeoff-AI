{
 "cells": [
  {
   "cell_type": "code",
   "execution_count": 1,
   "id": "83a054c4-2da6-4a25-b151-5888ff442315",
   "metadata": {},
   "outputs": [],
   "source": [
    "import os\n",
    "import pandas as pd"
   ]
  },
  {
   "cell_type": "code",
   "execution_count": 2,
   "id": "3a2b5119",
   "metadata": {},
   "outputs": [],
   "source": [
    "data_path = r\"S:\\Personal Folders\\Databases\\Cleaned_Dataset.csv\""
   ]
  },
  {
   "cell_type": "code",
   "execution_count": 3,
   "id": "bbe0924d",
   "metadata": {},
   "outputs": [],
   "source": [
    "data = pd.read_csv(data_path,index_col=0)"
   ]
  },
  {
   "cell_type": "code",
   "execution_count": 4,
   "id": "8f2a9d32",
   "metadata": {
    "scrolled": true
   },
   "outputs": [
    {
     "data": {
      "text/plain": [
       "['Account',\n",
       " 'Daily Date',\n",
       " 'Report By (Foreman)',\n",
       " 'JI_global_project_manager',\n",
       " 'Job Number',\n",
       " 'JI_project_name',\n",
       " 'copper_terminated',\n",
       " 'copper_test_label',\n",
       " 'copper_cables_roughed',\n",
       " 'crew_names',\n",
       " 'crew_total_daily_hours',\n",
       " 'crew_total_members_on_site',\n",
       " 'T&M Description',\n",
       " 'T&M Hours',\n",
       " 'delay_calendar_ext',\n",
       " 'delay_company_at_fault',\n",
       " 'delay_man_hours',\n",
       " 'delay_weather_conditions',\n",
       " 'delay_weather_notes',\n",
       " 'delay_why',\n",
       " 'fiber_terminated',\n",
       " 'fiber_test_labeled',\n",
       " 'fiber_roughed_FT',\n",
       " 'foreman_additional_comments',\n",
       " 'foreman_completion_date',\n",
       " 'foreman_signature',\n",
       " 'idf_cabletray_installed_ft',\n",
       " 'idf_cop_patch_panels_term',\n",
       " 'idf_fiber_panels_termed',\n",
       " 'idf_racks_installed',\n",
       " 'walker_inline_cover_walkerInfo',\n",
       " 'work_materials_on_site',\n",
       " 'work_other']"
      ]
     },
     "execution_count": 4,
     "metadata": {},
     "output_type": "execute_result"
    }
   ],
   "source": [
    "info = list(data)\n",
    "info"
   ]
  },
  {
   "cell_type": "code",
   "execution_count": null,
   "id": "1451c323-1c8b-4c27-8f4b-af4fb11e3a23",
   "metadata": {
    "tags": []
   },
   "outputs": [],
   "source": [
    "data.loc[data[\"Job Number\"]==5602]"
   ]
  },
  {
   "cell_type": "code",
   "execution_count": 12,
   "id": "6e57268b",
   "metadata": {},
   "outputs": [
    {
     "data": {
      "text/plain": [
       "0     20.0\n",
       "1      0.0\n",
       "2      NaN\n",
       "3      0.0\n",
       "4     18.0\n",
       "      ... \n",
       "64     NaN\n",
       "65     0.0\n",
       "66    10.0\n",
       "67     2.0\n",
       "68     NaN\n",
       "Name: copper_cables_roughed, Length: 69, dtype: float64"
      ]
     },
     "execution_count": 12,
     "metadata": {},
     "output_type": "execute_result"
    }
   ],
   "source": [
    "data[\"copper_cables_roughed\"]"
   ]
  },
  {
   "cell_type": "code",
   "execution_count": null,
   "id": "faae236b",
   "metadata": {},
   "outputs": [],
   "source": []
  },
  {
   "cell_type": "code",
   "execution_count": 5,
   "id": "999a27f6",
   "metadata": {},
   "outputs": [],
   "source": [
    "os.getcwd()\n",
    "from FastField_Management.functions.calculation import pd_multi_column"
   ]
  },
  {
   "cell_type": "code",
   "execution_count": 6,
   "id": "0cc0c045",
   "metadata": {},
   "outputs": [],
   "source": [
    "labor_type = ('copper_terminated','copper_test_label','copper_cables_roughed','fiber_terminated','fiber_test_labeled')\n",
    "daily_hours = \"crew_total_daily_hours\"\n",
    "calculator = pd_multi_column(data,non_zeros = True)"
   ]
  },
  {
   "cell_type": "code",
   "execution_count": 12,
   "id": "4371f0e3",
   "metadata": {},
   "outputs": [
    {
     "name": "stdout",
     "output_type": "stream",
     "text": [
      "Calculations\n",
      "{'copper_terminated': 1.0769230769230769, 'copper_test_label': 6.666666666666667, 'copper_cables_roughed': 0.6862745098039216, 'fiber_terminated': 1.967741935483871, 'fiber_test_labeled': 3.0}\n",
      "\n",
      "Units: Units = Type/Hour\n"
     ]
    }
   ],
   "source": [
    "work_per_hour = calculator.multiple_superdivide(labor_type,daily_hours)\n",
    "print(f\"Calculations\\n{work_per_hour[0]}\\n\\nUnits: {work_per_hour[1]}\")"
   ]
  },
  {
   "cell_type": "code",
   "execution_count": 19,
   "id": "ecedd755",
   "metadata": {},
   "outputs": [
    {
     "name": "stdout",
     "output_type": "stream",
     "text": [
      "copper_terminated: 0.9285714285714286\n",
      "copper_test_label: 0.15\n",
      "copper_cables_roughed: 1.457142857142857\n",
      "fiber_terminated: 0.5081967213114754\n",
      "fiber_test_labeled: 0.3333333333333333\n"
     ]
    }
   ],
   "source": [
    "for key in work_per_hour[0]:\n",
    "    print(f\"{key}: {1/work_per_hour[0][key]}\")"
   ]
  },
  {
   "cell_type": "markdown",
   "id": "643251f7-a5a5-4831-baa8-55319a778c48",
   "metadata": {},
   "source": [
    "1. Summations of Work --> ONLY columns that are needed\n",
    "2. Single File Alert Checks\n",
    "    a. Delay (Implemented in FastField)\n",
    "    b. T&M (Implemented in Fastfield)\n",
    "    c. Overtime\n",
    "    d. work deviation from averages?"
   ]
  }
 ],
 "metadata": {
  "kernelspec": {
   "display_name": "walker",
   "language": "python",
   "name": "walker"
  },
  "language_info": {
   "codemirror_mode": {
    "name": "ipython",
    "version": 3
   },
   "file_extension": ".py",
   "mimetype": "text/x-python",
   "name": "python",
   "nbconvert_exporter": "python",
   "pygments_lexer": "ipython3",
   "version": "3.9.7"
  }
 },
 "nbformat": 4,
 "nbformat_minor": 5
}

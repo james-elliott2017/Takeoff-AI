{
 "cells": [
  {
   "cell_type": "markdown",
   "metadata": {},
   "source": [
    "# To Do List  \n",
    "1. Figure out why .get_pixmap() is failing  \n",
    "2. Complete Text_Based solution including standard location for pdf_input  \n",
    "3. Test with completely new project, and make sure everything works\n",
    "4. join PDF_to_text & text_counter() --> Remember each section requires its own text file."
   ]
  },
  {
   "cell_type": "markdown",
   "metadata": {},
   "source": [
    "# Description  \n",
    "Notebook is used as a place for using TakeoffAI with ease. Each cell is broken up into a step needed"
   ]
  },
  {
   "cell_type": "code",
   "execution_count": null,
   "metadata": {},
   "outputs": [],
   "source": [
    "### LINK JUPYTER TO CONDA ENVIROMENT MOP ###\n",
    "# COMMAND LINE CALLOUT\n",
    "# python -m ipykernel install --user --name=\"ENVIROMENT_NAME\"\n",
    "\n",
    "# !pip install ipython_genutils==0.2.0"
   ]
  },
  {
   "cell_type": "code",
   "execution_count": null,
   "metadata": {},
   "outputs": [],
   "source": [
    "import sys\n",
    "print(sys.executable)"
   ]
  },
  {
   "cell_type": "code",
   "execution_count": 1,
   "metadata": {},
   "outputs": [
    {
     "name": "stdout",
     "output_type": "stream",
     "text": [
      "Imports Complete\n"
     ]
    }
   ],
   "source": [
    "#STEP 1 --> Import Mandatory Code\n",
    "import os\n",
    "import fitz\n",
    "\n",
    "from AutoCount.AutocountMain import img_count\n",
    "from TextCount.TextExtractorMain import text_counter\n",
    "from TextCount.PDF_to_txt import main as pdf_to_text_main\n",
    "from TextCount.PDF_to_txt import find_pixels\n",
    "from TextCount.TextExtractorMain import main_V2\n",
    "print(\"Imports Complete\")\n",
    "walker_dir = r\"C:\\Users\\james\\OneDrive\\Documents\\Coding Projects\\Python Projects\\Takeoff AI\\Walker Projects\""
   ]
  },
  {
   "cell_type": "code",
   "execution_count": 2,
   "metadata": {},
   "outputs": [],
   "source": [
    "#STEP 2 --> Project Setup, Update JOb Specific & Path Requirements\n",
    "\n",
    "#AutoCount & Text Requirements\n",
    "project = r\"6082 Sunnyville Civic Center\"\n",
    "division = r\"Data_Floor\" #text_extractor ONLY --- FAZE OUT SOON"
   ]
  },
  {
   "cell_type": "code",
   "execution_count": 3,
   "metadata": {},
   "outputs": [
    {
     "name": "stdout",
     "output_type": "stream",
     "text": [
      "folder already exists\n"
     ]
    }
   ],
   "source": [
    "###LOAD PROJECT###\n",
    "AutoCount_Class = img_count()\n",
    "working_dir = AutoCount_Class.create_project(project) #works as a loader also"
   ]
  },
  {
   "cell_type": "markdown",
   "metadata": {},
   "source": [
    "## Picture Counting Only  \n",
    "Code for counting objects using picures"
   ]
  },
  {
   "cell_type": "code",
   "execution_count": null,
   "metadata": {
    "scrolled": true
   },
   "outputs": [],
   "source": [
    "###AutoCount###\n",
    "AutoCount_Class.threshold = 0.85\n",
    "AutoCount_Class.run_counts(working_dir,is_dir=True)"
   ]
  },
  {
   "cell_type": "markdown",
   "metadata": {},
   "source": [
    "## Convert PDF to Text.  \n",
    "\n",
    "**This must be done before you run Text Counting**"
   ]
  },
  {
   "cell_type": "markdown",
   "metadata": {},
   "source": [
    "## Text Counting  \n",
    "1. Create Text Files for Each Scope of Work  \n",
    "2. Create Scope of Work in JSON file (must be done to create Text_Counter() Scope Folders)  \n",
    "    a. place scope search terms if you have them. If not, can be done after creation.\n",
    "3. Run Text_Counter()/Create_Scope_Folders()\n",
    "4. Update JSON file with key terms if not done, and place text files in correct text folders\n",
    "5. Run Counter and Open Counts in Excel"
   ]
  },
  {
   "cell_type": "code",
   "execution_count": 4,
   "metadata": {},
   "outputs": [
    {
     "name": "stdout",
     "output_type": "stream",
     "text": [
      "DO NOT FORGET TO CLOSE PAINT AFTER GETTING PIXEL COORDINATES\n",
      "PAINT CLOSED\n"
     ]
    }
   ],
   "source": [
    "#Find Pixel Values\n",
    "\n",
    "working_dir = os.path.join(walker_dir,project,\"Misc_Files\") #job directory we are working out of\n",
    "input_file = r\"2020-0808 SV DWGS BID SET Vol 3C.pdf\" #input_pdf name\n",
    "output_file = r\"output.txt\" #complete output pdf path\n",
    "\n",
    "page_number = 176\n",
    "\n",
    "###############################DO NOT TOUCH BELOW THIS LINE################################################\n",
    "print(\"DO NOT FORGET TO CLOSE PAINT AFTER GETTING PIXEL COORDINATES\")\n",
    "find_pixels(working_dir,input_pdf=input_file,pixel_page_num=page_number)\n",
    "print(\"PAINT CLOSED\")"
   ]
  },
  {
   "cell_type": "markdown",
   "metadata": {},
   "source": [
    "Bounding Box Setup"
   ]
  },
  {
   "cell_type": "code",
   "execution_count": 5,
   "metadata": {},
   "outputs": [
    {
     "name": "stdout",
     "output_type": "stream",
     "text": [
      "Box Coordinates: (197, 163, 1943, 1625)\n"
     ]
    }
   ],
   "source": [
    "# box coordinate (x0,yo,x1,y1) = (top_left_x,top_left,y,bot_right_x,bot_right_y)\n",
    "top_left_x = 197\n",
    "top_left_y = 163\n",
    "bot_right_x = 1943\n",
    "bot_right_y = 1625\n",
    "\n",
    "###############################DO NOT TOUCH BELOW THIS LINE################################################\n",
    "rectangle = (top_left_x,top_left_y,bot_right_x,bot_right_y)\n",
    "print(f\"Box Coordinates: {rectangle}\")"
   ]
  },
  {
   "cell_type": "markdown",
   "metadata": {},
   "source": [
    "Create Text File"
   ]
  },
  {
   "cell_type": "code",
   "execution_count": null,
   "metadata": {
    "scrolled": true
   },
   "outputs": [],
   "source": [
    "text_file_name = f\"{project}_text_file.txt\"\n",
    "\n",
    "###############################DO NOT TOUCH BELOW THIS LINE################################################\n",
    "pdf_to_text_main(rectangle=rectangle,save_dir=working_dir,input_pdf=input_file,output_txt=text_file_name)\n",
    "print(f\"Text File Location:\\n{os.path.join(working_dir,text_file_name)}\\n\")"
   ]
  },
  {
   "cell_type": "markdown",
   "metadata": {},
   "source": [
    "STEP 2 --- Create JSON File"
   ]
  },
  {
   "cell_type": "markdown",
   "metadata": {},
   "source": [
    "STEP 3 --- Run Below to Create Folders Based on JSON file"
   ]
  },
  {
   "cell_type": "code",
   "execution_count": 6,
   "metadata": {
    "scrolled": true
   },
   "outputs": [
    {
     "name": "stdout",
     "output_type": "stream",
     "text": [
      "JSON Found, loading found JSON\n",
      "Found Divisions: ['LowVoltage', 'AV', 'Test', 'Test 2', 'Test 3']\n",
      "JSON Found, loading found JSON\n",
      "txt Files list: ['SUB 2020-0808 SV DWGS BID SET Vol 3C.txt', 'SUB 2020-0808 SV DWGS BID SET Vol 4.txt', 'SUB 2020-0808 SV DWGS BID SET Vol 5.txt']\n",
      "FILTERED\n",
      " {'X': 67, 'W': 110, 'B': 45, '1B': 1, 'T': 23, 'A': 125, '1D': 152, '2D': 735, '3D': 8, '4D': 178, '6D': 59}\n",
      "Counts Complete\n",
      "JSON Found, loading found JSON\n",
      "txt Files list: ['SUB 2020-0808 SV DWGS BID SET Vol 3C.txt', 'SUB 2020-0808 SV DWGS BID SET Vol 4.txt', 'SUB 2020-0808 SV DWGS BID SET Vol 5.txt']\n",
      "FILTERED\n",
      " {'CTW': 17, 'POWER': 2}\n",
      "Counts Complete\n",
      "JSON Found, loading found JSON\n",
      "txt Files list: ['SUB 2020-0808 SV DWGS BID SET Vol 3C.txt', 'SUB 2020-0808 SV DWGS BID SET Vol 4.txt', 'SUB 2020-0808 SV DWGS BID SET Vol 5.txt']\n",
      "FILTERED\n",
      " {}\n",
      "Counts Complete\n",
      "Division Folder DOES NOT EXIST, created new one. Rerun\n",
      "JSON Found, loading found JSON\n",
      "txt Files list: ['SUB 2020-0808 SV DWGS BID SET Vol 3C.txt', 'SUB 2020-0808 SV DWGS BID SET Vol 4.txt', 'SUB 2020-0808 SV DWGS BID SET Vol 5.txt']\n",
      "FILTERED\n",
      " {}\n",
      "Counts Complete\n",
      "Division Folder DOES NOT EXIST, created new one. Rerun\n",
      "JSON Found, loading found JSON\n",
      "txt Files list: ['SUB 2020-0808 SV DWGS BID SET Vol 3C.txt', 'SUB 2020-0808 SV DWGS BID SET Vol 4.txt', 'SUB 2020-0808 SV DWGS BID SET Vol 5.txt']\n",
      "FILTERED\n",
      " {'456': 6}\n",
      "Counts Complete\n"
     ]
    }
   ],
   "source": [
    "#create folders. \n",
    "# Will get message \"Division Folder DOES NOT EXIST, created new one. Rerun\" if new folders were created\n",
    "main_V2(project)"
   ]
  },
  {
   "cell_type": "markdown",
   "metadata": {},
   "source": [
    "STEP 4: Move Text Files into Text_Folders for given division"
   ]
  },
  {
   "cell_type": "markdown",
   "metadata": {},
   "source": [
    "STEP 5: Rerun main_v2() & real excel files for counts"
   ]
  },
  {
   "cell_type": "code",
   "execution_count": null,
   "metadata": {},
   "outputs": [],
   "source": []
  }
 ],
 "metadata": {
  "kernelspec": {
   "display_name": "walker",
   "language": "python",
   "name": "walker"
  },
  "language_info": {
   "codemirror_mode": {
    "name": "ipython",
    "version": 3
   },
   "file_extension": ".py",
   "mimetype": "text/x-python",
   "name": "python",
   "nbconvert_exporter": "python",
   "pygments_lexer": "ipython3",
   "version": "3.9.5"
  }
 },
 "nbformat": 4,
 "nbformat_minor": 4
}

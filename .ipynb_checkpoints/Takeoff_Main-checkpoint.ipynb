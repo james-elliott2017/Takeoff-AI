{
 "cells": [
  {
   "cell_type": "markdown",
   "metadata": {},
   "source": [
    "# Description  \n",
    "Notebook is used as a place for using TakeoffAI with ease. Each cell is broken up into a step needed"
   ]
  },
  {
   "cell_type": "code",
   "execution_count": null,
   "metadata": {},
   "outputs": [],
   "source": [
    "### LINK JUPYTER TO CONDA ENVIROMENT MOP ###\n",
    "# COMMAND LINE CALLOUT\n",
    "# python -m ipykernel install --user --name=\"ENVIROMENT_NAME\"\n",
    "\n",
    "# !pip install ipython_genutils==0.2.0\n",
    "\n",
    "# import sys\n",
    "# print(sys.executable)"
   ]
  },
  {
   "cell_type": "code",
   "execution_count": 1,
   "metadata": {},
   "outputs": [
    {
     "name": "stdout",
     "output_type": "stream",
     "text": [
      "Imports Complete\n"
     ]
    }
   ],
   "source": [
    "#STEP 1 --> Import Mandatory Code\n",
    "import os\n",
    "import fitz\n",
    "\n",
    "from AutoCount.AutocountMain import img_count\n",
    "from TextCount.TextExtractorMain import text_counter\n",
    "from TextCount.PDF_to_txt import main as pdf_to_text_main\n",
    "from TextCount.PDF_to_txt import find_pixels\n",
    "from TextCount.TextExtractorMain import main_V2\n",
    "print(\"Imports Complete\")\n",
    "walker_dir = r\"C:\\Users\\james\\OneDrive\\Documents\\Coding Projects\\Python Projects\\Takeoff AI\\Walker Projects\""
   ]
  },
  {
   "cell_type": "code",
   "execution_count": 2,
   "metadata": {},
   "outputs": [],
   "source": [
    "#STEP 2 --> Project Setup, Update JOb Specific & Path Requirements\n",
    "\n",
    "#AutoCount & Text Requirements\n",
    "project = r\"5648 - SF NLRB\""
   ]
  },
  {
   "cell_type": "code",
   "execution_count": 3,
   "metadata": {},
   "outputs": [
    {
     "name": "stdout",
     "output_type": "stream",
     "text": [
      "folder already exists\n"
     ]
    }
   ],
   "source": [
    "###LOAD PROJECT###\n",
    "AutoCount_Class = img_count(projects_dir=walker_dir)\n",
    "working_dir = AutoCount_Class.create_project(project) #works as a loader as well"
   ]
  },
  {
   "cell_type": "markdown",
   "metadata": {},
   "source": [
    "## Picture Counting\n",
    "Code for counting objects using picures"
   ]
  },
  {
   "cell_type": "code",
   "execution_count": null,
   "metadata": {
    "scrolled": true
   },
   "outputs": [],
   "source": [
    "###AutoCount###\n",
    "AutoCount_Class.threshold = 0.85\n",
    "AutoCount_Class.run_counts(working_dir,is_dir=True)"
   ]
  },
  {
   "cell_type": "markdown",
   "metadata": {},
   "source": [
    "## Convert PDF to Text.  \n",
    "\n",
    "**This must be done before you run Text Counting**"
   ]
  },
  {
   "cell_type": "markdown",
   "metadata": {},
   "source": [
    "## Text Counting  \n",
    "1. Create Text Files for Each Scope of Work  \n",
    "2. Create Scope of Work in JSON file (must be done to create Text_Counter() Scope Folders)  \n",
    "    a. place scope search terms if you have them. If not, can be done after creation.\n",
    "3. Run Text_Counter()/Create_Scope_Folders()\n",
    "4. Update JSON file with key terms if not done, and place text files in correct text folders\n",
    "5. Run Counter and Open Counts in Excel"
   ]
  },
  {
   "cell_type": "code",
   "execution_count": 4,
   "metadata": {},
   "outputs": [],
   "source": [
    "#Find Pixel Values\n",
    "input_file = r\"S:\\Shared Folders\\Steven\\Quotes\\5600\\5648 - SF NLRB improvement (sasha)\\Drawings & Specs\\NLRB - Drawings.pdf\" #input_pdf name\n",
    "output_file = r\"output.txt\" #complete output pdf path\n",
    "\n",
    "page_number = 61\n",
    "\n",
    "###############################DO NOT TOUCH BELOW THIS LINE################################################\n",
    "page_number -= 1 #handle page offset\n",
    "working_dir = os.path.join(walker_dir,project,\"Misc_Files\") #job directory we are working out of"
   ]
  },
  {
   "cell_type": "code",
   "execution_count": null,
   "metadata": {},
   "outputs": [],
   "source": [
    "print(\"DO NOT FORGET TO CLOSE PAINT AFTER GETTING PIXEL COORDINATES\")\n",
    "find_pixels(working_dir,input_pdf=input_file,pixel_page_num=page_number)\n",
    "print(\"PAINT CLOSED\")"
   ]
  },
  {
   "cell_type": "markdown",
   "metadata": {},
   "source": [
    "Bounding Box Setup"
   ]
  },
  {
   "cell_type": "code",
   "execution_count": 5,
   "metadata": {},
   "outputs": [
    {
     "name": "stdout",
     "output_type": "stream",
     "text": [
      "Box Coordinates: None\n"
     ]
    }
   ],
   "source": [
    "# box coordinate (x0,yo,x1,y1) = (top_left_x,top_left,y,bot_right_x,bot_right_y)\n",
    "top_left_x = 2036\n",
    "top_left_y = 2402\n",
    "bot_right_x = 150\n",
    "bot_right_y = 500\n",
    "\n",
    "###############################DO NOT TOUCH BELOW THIS LINE################################################\n",
    "rectangle = (top_left_x,top_left_y,bot_right_x,bot_right_y) #NOT WORKING CORRECTLY\n",
    "rectangle = None # USE IF YOU WANT THE WHOLE PAGE\n",
    "print(f\"Box Coordinates: {rectangle}\")"
   ]
  },
  {
   "cell_type": "markdown",
   "metadata": {},
   "source": [
    "Create Text File"
   ]
  },
  {
   "cell_type": "code",
   "execution_count": null,
   "metadata": {
    "scrolled": false
   },
   "outputs": [],
   "source": [
    "text_file_name = f\"{project}_low_voltage_floor.txt\"\n",
    "pg_start = 70\n",
    "pg_stop = 72 #None if want all pages, +1 from last page you want\n",
    "\n",
    "###############################DO NOT TOUCH BELOW THIS LINE################################################\n",
    "pdf_to_text_main(rectangle=rectangle,save_dir=working_dir,input_pdf=input_file,output_txt=text_file_name,\n",
    "                page_start=pg_start,page_stop=pg_stop)\n",
    "print(f\"Text File Location:\\n{os.path.join(working_dir,text_file_name)}\\n\")"
   ]
  },
  {
   "cell_type": "markdown",
   "metadata": {},
   "source": [
    "STEP 2 --- Create JSON File"
   ]
  },
  {
   "cell_type": "markdown",
   "metadata": {},
   "source": [
    "STEP 3 --- Run Below to Create Folders Based on JSON file"
   ]
  },
  {
   "cell_type": "code",
   "execution_count": 3,
   "metadata": {
    "scrolled": true
   },
   "outputs": [
    {
     "name": "stdout",
     "output_type": "stream",
     "text": [
      "JSON Found, loading found JSON\n",
      "Found Divisions: ['Low_Voltage_Floor']\n",
      "JSON Found, loading found JSON\n",
      "txt Files list: ['5648 - SF NLRB_low_voltage_floor.txt', '5648 - SF NLRB_low_voltage_RCP.txt']\n",
      "FILTERED\n",
      " {'1D,1V': 63, 'AV': 3, '2D,2V': 10, 'FP4': 5, '2D': 3, '1D': 9, 'WAP': 6}\n",
      "Counts Complete\n"
     ]
    }
   ],
   "source": [
    "#create folders. \n",
    "# Will get message \"Division Folder DOES NOT EXIST, created new one. Rerun\" if new folders were created\n",
    "main_V2(project)"
   ]
  },
  {
   "cell_type": "markdown",
   "metadata": {},
   "source": [
    "STEP 4: Move Text Files into Text_Folders for given division"
   ]
  },
  {
   "cell_type": "markdown",
   "metadata": {},
   "source": [
    "STEP 5: Rerun main_v2() & real excel files for counts"
   ]
  },
  {
   "cell_type": "code",
   "execution_count": null,
   "metadata": {},
   "outputs": [],
   "source": []
  }
 ],
 "metadata": {
  "kernelspec": {
   "display_name": "walker",
   "language": "python",
   "name": "walker"
  },
  "language_info": {
   "codemirror_mode": {
    "name": "ipython",
    "version": 3
   },
   "file_extension": ".py",
   "mimetype": "text/x-python",
   "name": "python",
   "nbconvert_exporter": "python",
   "pygments_lexer": "ipython3",
   "version": "3.9.5"
  }
 },
 "nbformat": 4,
 "nbformat_minor": 4
}

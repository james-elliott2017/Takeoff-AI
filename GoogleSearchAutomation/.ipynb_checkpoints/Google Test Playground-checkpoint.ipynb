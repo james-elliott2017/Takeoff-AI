{
 "cells": [
  {
   "cell_type": "code",
   "execution_count": 63,
   "id": "d592b041-2de4-4c73-bb92-9f41a00c316f",
   "metadata": {},
   "outputs": [],
   "source": [
    "from GoogleSearchManager import GoogleShopScraper\n",
    "import numpy as np\n",
    "from typing import List"
   ]
  },
  {
   "cell_type": "code",
   "execution_count": 4,
   "id": "d98529e7-3bdb-4b8d-85d8-3ea39d1ad6d0",
   "metadata": {
    "tags": []
   },
   "outputs": [
    {
     "name": "stdout",
     "output_type": "stream",
     "text": [
      "[<div class=\"rgHvZc\"><a href=\"http://www.google.com.tr/aclk?sa=L&amp;ai=DChcSEwiu0typ3Lz1AhXDH60GHaRNB8cYABABGgJwdg&amp;sig=AOD64_3ZDafUj7ll3XifxMCuzpFUv1cCIg&amp;ctype=5&amp;ved=0ahUKEwiP6dGp3Lz1AhU8IkQIHTFrCMMQ2CkIJw&amp;adurl=\"><b>Crestron MPC3</b>-<b>102</b>-<b>B</b> 3-Series Media Presentation Controller <b>102</b>, Black</a></div>, <span class=\"HRLxBb\">$1,090.00</span>, <div class=\"rgHvZc\"><a href=\"http://www.google.com.tr/aclk?sa=L&amp;ai=DChcSEwiu0typ3Lz1AhXDH60GHaRNB8cYABADGgJwdg&amp;sig=AOD64_1qwMD92g7cUZTttiNWsTFxey-M4Q&amp;ctype=5&amp;ved=0ahUKEwiP6dGp3Lz1AhU8IkQIHTFrCMMQ2CkIKg&amp;adurl=\"><b>Crestron MPC3</b>-<b>102</b>-<b>B</b> 3-Series Media Presentation Controller <b>102</b>, Black</a></div>, <span class=\"HRLxBb\">$1,090.00</span>, <div class=\"rgHvZc\"><a href=\"http://www.google.com.tr/aclk?sa=L&amp;ai=DChcSEwiu0typ3Lz1AhXDH60GHaRNB8cYABAFGgJwdg&amp;sig=AOD64_3GRyTyXbAYIS2rtH9ZfI24dwG3LQ&amp;ctype=5&amp;ved=0ahUKEwiP6dGp3Lz1AhU8IkQIHTFrCMMQ2CkILQ&amp;adurl=\"><b>Crestron MPC3</b>-<b>102</b>-<b>B</b></a></div>, <span class=\"HRLxBb\">$1,090.00</span>, <div class=\"rgHvZc\"><a href=\"http://www.google.com.tr/aclk?sa=L&amp;ai=DChcSEwiu0typ3Lz1AhXDH60GHaRNB8cYABAHGgJwdg&amp;sig=AOD64_00Ddb5rOSwp2XyMnmqz8f5WirgTw&amp;ctype=5&amp;ved=0ahUKEwiP6dGp3Lz1AhU8IkQIHTFrCMMQ2CkIMA&amp;adurl=\"><b>Crestron</b> Video Equipment Device &amp; Room Control <b>MPC3</b>-<b>102</b>-<b>B</b> 3-Series Media Presentation Controller <b>102</b>, Black</a></div>, <span class=\"HRLxBb\">$1,090.00</span>, <div class=\"rgHvZc\"><a href=\"http://www.google.com.tr/aclk?sa=L&amp;ai=DChcSEwiu0typ3Lz1AhXDH60GHaRNB8cYABAJGgJwdg&amp;sig=AOD64_3-1gO_mCUSgjMGRsENexH3BtciEQ&amp;ctype=5&amp;ved=0ahUKEwiP6dGp3Lz1AhU8IkQIHTFrCMMQ2CkIMw&amp;adurl=\"><b>Crestron MPC3</b>-302-<b>B</b> 3-Series Media Presentation Controller 302, Black</a></div>, <span class=\"HRLxBb\">$1,090.00</span>, <div class=\"rgHvZc\"><a href=\"http://www.google.com.tr/aclk?sa=L&amp;ai=DChcSEwiu0typ3Lz1AhXDH60GHaRNB8cYABALGgJwdg&amp;sig=AOD64_3Vrj51BblNBcQhEpMLRMJebeD22Q&amp;ctype=5&amp;ved=0ahUKEwiP6dGp3Lz1AhU8IkQIHTFrCMMQ2CkINg&amp;adurl=\">Lot Of 5 <b>Crestron Mpc3</b>-101/<b>102</b>/201-rmb Retrofit Mounting Bracket</a></div>, <span class=\"HRLxBb\">$59.77</span>, <div class=\"rgHvZc\"><a href=\"http://www.google.com.tr/aclk?sa=L&amp;ai=DChcSEwiu0typ3Lz1AhXDH60GHaRNB8cYABANGgJwdg&amp;sig=AOD64_2YaW2JuqhxlBqyuG75f-4ufgFWBw&amp;ctype=5&amp;ved=0ahUKEwiP6dGp3Lz1AhU8IkQIHTFrCMMQ2CkIOQ&amp;adurl=\"><b>Crestron MPC3</b>/MPB3-TTK-SQR-<b>B</b> Tabletop Kit for <b>MPC3</b>-201, Black</a></div>, <span class=\"HRLxBb\">$180.00</span>, <div class=\"rgHvZc\"><a href=\"http://www.google.com.tr/aclk?sa=L&amp;ai=DChcSEwiu0typ3Lz1AhXDH60GHaRNB8cYABAPGgJwdg&amp;sig=AOD64_0p_eMlBGbJ69PX7xaoUHzSG0JeFA&amp;ctype=5&amp;ved=0ahUKEwiP6dGp3Lz1AhU8IkQIHTFrCMMQ2CkIPA&amp;adurl=\"><b>Crestron MPC3</b>-302-<b>B</b></a></div>, <span class=\"HRLxBb\">$1,090.00</span>, <div class=\"rgHvZc\"><a href=\"http://www.google.com.tr/aclk?sa=L&amp;ai=DChcSEwiu0typ3Lz1AhXDH60GHaRNB8cYABARGgJwdg&amp;sig=AOD64_3gARmJmc45ifCxapf4JVUYvioPsQ&amp;ctype=5&amp;ved=0ahUKEwiP6dGp3Lz1AhU8IkQIHTFrCMMQ2CkIPw&amp;adurl=\"><b>Crestron MPC3</b>-302-<b>B</b> 3-Series Media Presentation Controller 302, Black</a></div>, <span class=\"HRLxBb\">$1,090.00</span>, <div class=\"rgHvZc\"><a href=\"/url?q=http://proavwarehouse.com/pro-av-brands/crestron/crestron-mpc3-201-b-3-series-media-presentation-controller-201-black/&amp;sa=U&amp;ved=0ahUKEwiP6dGp3Lz1AhU8IkQIHTFrCMMQsDwIQg&amp;usg=AOvVaw0PU9umVBVHxNffZnwtCjm8\"><b>Crestron</b> 3-Series Media Presentation Controller 201, Black</a></div>, <span class=\"HRLxBb\">$650.00</span>, <div class=\"rgHvZc\"><a href=\"http://www.google.com.tr/aclk?sa=L&amp;ai=DChcSEwiu0typ3Lz1AhXDH60GHaRNB8cYABATGgJwdg&amp;sig=AOD64_3Ee0Nt48EQver9z7cQJkXftH9P7Q&amp;ctype=5&amp;ved=0ahUKEwiP6dGp3Lz1AhU8IkQIHTFrCMMQ2CkIRg&amp;adurl=\"><b>Crestron Mpc3</b>-101/<b>102</b>/201-rmb Retrofit Mounting Bracket</a></div>, <span class=\"HRLxBb\">$19.99</span>, <div class=\"rgHvZc\"><a href=\"http://www.google.com.tr/aclk?sa=L&amp;ai=DChcSEwiu0typ3Lz1AhXDH60GHaRNB8cYABAVGgJwdg&amp;sig=AOD64_17i2zii-CztC-9zOOaGr_Et_Estw&amp;ctype=5&amp;ved=0ahUKEwiP6dGp3Lz1AhU8IkQIHTFrCMMQ2CkISQ&amp;adurl=\"><b>Crestron MPC3</b>-302-W 3-Series Media Presentation Controller 302, White</a></div>, <span class=\"HRLxBb\">$1,090.00</span>, <div class=\"rgHvZc\"><a href=\"http://www.google.com.tr/aclk?sa=L&amp;ai=DChcSEwiu0typ3Lz1AhXDH60GHaRNB8cYABAXGgJwdg&amp;sig=AOD64_32Ib23AKtpCO95aqR5UFbzEDY1Fw&amp;ctype=5&amp;ved=0ahUKEwiP6dGp3Lz1AhU8IkQIHTFrCMMQ2CkITA&amp;adurl=\"><b>Crestron MPC3</b>/MPB3-TTK-SQR-<b>B</b></a></div>, <span class=\"HRLxBb\">$180.00</span>, <div class=\"rgHvZc\"><a href=\"http://www.google.com.tr/aclk?sa=L&amp;ai=DChcSEwiu0typ3Lz1AhXDH60GHaRNB8cYABAZGgJwdg&amp;sig=AOD64_2Oe9PYGpuDdweHBZ7l375dlR8fgg&amp;ctype=5&amp;ved=0ahUKEwiP6dGp3Lz1AhU8IkQIHTFrCMMQ2CkITw&amp;adurl=\"><b>Crestron</b> Video Equipment Device &amp; Room Control <b>MPC3</b>-201-<b>B</b> 3-Series Media Presentation Controller 201, Black</a></div>, <span class=\"HRLxBb\">$650.00</span>, <div class=\"rgHvZc\"><a href=\"http://www.google.com.tr/aclk?sa=L&amp;ai=DChcSEwiu0typ3Lz1AhXDH60GHaRNB8cYABAbGgJwdg&amp;sig=AOD64_0NBTdDcxXn47wl4nr-QvYl6qkhVQ&amp;ctype=5&amp;ved=0ahUKEwiP6dGp3Lz1AhU8IkQIHTFrCMMQ2CkIUg&amp;adurl=\"><b>Crestron MPC3</b>-302-W 3-Series Media Presentation Controller 302, Black</a></div>, <span class=\"HRLxBb\">$1,090.00</span>, <div class=\"rgHvZc\"><a href=\"http://www.google.com.tr/aclk?sa=L&amp;ai=DChcSEwiu0typ3Lz1AhXDH60GHaRNB8cYABAdGgJwdg&amp;sig=AOD64_1IXz2UzURZ7eBGWRRPB1ssGPBeaw&amp;ctype=5&amp;ved=0ahUKEwiP6dGp3Lz1AhU8IkQIHTFrCMMQ2CkIVQ&amp;adurl=\"><b>Crestron MPC3</b>-101-<b>B</b> 3-Series Media Presentation Controller 101, Black</a></div>, <span class=\"HRLxBb\">$650.00</span>, <div class=\"rgHvZc\"><a href=\"http://www.google.com.tr/aclk?sa=L&amp;ai=DChcSEwiu0typ3Lz1AhXDH60GHaRNB8cYABAfGgJwdg&amp;sig=AOD64_0wnfqo3GvhFLQo-ifSyYZx89jX5w&amp;ctype=5&amp;ved=0ahUKEwiP6dGp3Lz1AhU8IkQIHTFrCMMQ2CkIWA&amp;adurl=\"><b>Crestron MPC3</b>-<b>102</b>-<b>B</b> 3-Series Media Presentation Controller <b>102</b>, Black</a></div>, <span class=\"HRLxBb\">$1,090.00</span>, <div class=\"rgHvZc\"><a href=\"http://www.google.com.tr/aclk?sa=L&amp;ai=DChcSEwiu0typ3Lz1AhXDH60GHaRNB8cYABAhGgJwdg&amp;sig=AOD64_0oTLdKaP4c4g5p8veJhXDCcKQUpw&amp;ctype=5&amp;ved=0ahUKEwiP6dGp3Lz1AhU8IkQIHTFrCMMQ2CkIWw&amp;adurl=\"><b>Crestron MPC3</b>-101-<b>B</b></a></div>, <span class=\"HRLxBb\">$650.00</span>, <div class=\"rgHvZc\"><a href=\"http://www.google.com.tr/aclk?sa=L&amp;ai=DChcSEwiu0typ3Lz1AhXDH60GHaRNB8cYABAjGgJwdg&amp;sig=AOD64_1Ju80qj1eMLmwdmtv-l7ExjuYobg&amp;ctype=5&amp;ved=0ahUKEwiP6dGp3Lz1AhU8IkQIHTFrCMMQ2CkIXg&amp;adurl=\"><b>Crestron MPC3</b>-101-<b>B</b> 3-Series Media Presentation Controller 101, Black</a></div>, <span class=\"HRLxBb\">$650.00</span>, <div class=\"rgHvZc\"><a href=\"http://www.google.com.tr/aclk?sa=L&amp;ai=DChcSEwiu0typ3Lz1AhXDH60GHaRNB8cYABAlGgJwdg&amp;sig=AOD64_1DzT44StBOYWNQsVEsRiDyP1Vw7Q&amp;ctype=5&amp;ved=0ahUKEwiP6dGp3Lz1AhU8IkQIHTFrCMMQ2CkIYQ&amp;adurl=\"><b>Crestron MPC3</b>-101/<b>102</b>/201-RMB</a></div>, <span class=\"HRLxBb\">$50.00</span>, <div class=\"rgHvZc\"><a href=\"http://www.google.com.tr/aclk?sa=L&amp;ai=DChcSEwiu0typ3Lz1AhXDH60GHaRNB8cYABAnGgJwdg&amp;sig=AOD64_2cMCFKpQvTiftWdwYThkpnxbtT6g&amp;ctype=5&amp;ved=0ahUKEwiP6dGp3Lz1AhU8IkQIHTFrCMMQ2CkIZA&amp;adurl=\"><b>Crestron MPC3</b>-201-<b>B</b> 3-Series Media Presentation Controller 201, Black</a></div>, <span class=\"HRLxBb\">$650.00</span>]\n",
      "\n",
      "\n",
      "\n",
      "[<div class=\"rgHvZc\"><a href=\"/url?q=https://www.ebay.com/itm/123418334443%3Fchn%3Dps%26mkevt%3D1%26mkcid%3D28&amp;sa=U&amp;ved=0ahUKEwiNvPKp3Lz1AhU5JEQIHchbCC0Q2SkILw&amp;usg=AOvVaw0LcPXXjdB09Jw9GZPQojEG\"><b>Crestron Dm</b>-<b>tx</b>-<b>200</b>-<b>c</b>-<b>2g</b>-<b>w-t</b> Wall Plate Digitalmedia 8g+ Transmitter,</a></div>, <span class=\"HRLxBb\">$950.00</span>, <div class=\"rgHvZc\"><a href=\"/url?q=http://proavwarehouse.com/pro-av-brands/crestron/crestron-dm-tx-200-c-2g-w-t-wall-plate-digitalmedia-8g-transmitter-200-white-textured/&amp;sa=U&amp;ved=0ahUKEwiNvPKp3Lz1AhU5JEQIHchbCC0QsDwIMg&amp;usg=AOvVaw18D5aE7VW8IKLaGfnI0dWS\"><b>Crestron DM</b>-<b>TX</b>-<b>200</b>-<b>C</b>-<b>2G</b>-<b>W-T</b> Wall Plate DigitalMedia 8G+ Transmitter <b>200</b>, White Textured</a></div>, <span class=\"HRLxBb\">$1,400.00</span>, <div class=\"rgHvZc\"><a href=\"/url?q=https://www.fullcompass.com/prod/560945-crestron-dm-tx-200-c-2g-wall-plate-digitalmedia-8g-transmitter-200%3Fdfw_tracker%3D36058-560945-0002&amp;sa=U&amp;ved=0ahUKEwiNvPKp3Lz1AhU5JEQIHchbCC0Q2SkINg&amp;usg=AOvVaw1ldZ5wzujyW1AwmoRY8Nch\"><b>Crestron DM</b>-<b>TX</b>-<b>200</b>-<b>C</b>-<b>2G</b> Wall Plate DigitalMedia 8G+ Transmitter <b>200</b> - White</a></div>, <span class=\"HRLxBb\">$1,400.00</span>, <div class=\"rgHvZc\"><a href=\"/url?q=https://www.4tecdirect.com/Crestron-DM-TX-200-2G-W-T&amp;sa=U&amp;ved=0ahUKEwiNvPKp3Lz1AhU5JEQIHchbCC0Q2SkIOQ&amp;usg=AOvVaw2Ikri6T28J3BiDhWTkC7R3\"><b>Crestron DM</b>-<b>TX</b>-<b>200</b>-<b>2G</b>-<b>W-T</b></a></div>, <span class=\"HRLxBb\">$1,200.00</span>, <div class=\"rgHvZc\"><a href=\"/url?q=https://www.ebay.com/itm/224702453523%3Fchn%3Dps%26mkevt%3D1%26mkcid%3D28&amp;sa=U&amp;ved=0ahUKEwiNvPKp3Lz1AhU5JEQIHchbCC0QsDwIPA&amp;usg=AOvVaw0DSl5MT-3Hj5urrrUOK3ft\"><b>Crestron DM</b>-<b>TX</b>-<b>200</b> HDMI Digital Media Cat Transmitter <b>200</b></a></div>, <span class=\"HRLxBb\">$50.00</span>, <div class=\"rgHvZc\"><a href=\"/url?q=http://proavwarehouse.com/pro-av-brands/crestron/crestron-fp-g2-dm-w-t-2-gang-decorator-style-faceplate-for-hd-md-300-c-e-and-dm-tx-200-c-2g-series-white-textured/&amp;sa=U&amp;ved=0ahUKEwiNvPKp3Lz1AhU5JEQIHchbCC0Q2SkIQA&amp;usg=AOvVaw0IYkReyFfencreSMkldrJl\"><b>Crestron</b> FP-G2-<b>DM</b>-<b>W-T</b> 2-Gang Decorator Style Faceplate for HD-MD-300-C-E and <b>DM</b>-<b>TX</b>-<b>200</b>-<b>C</b>-<b>2G</b> Series, White Textured</a></div>, <span class=\"HRLxBb\">$20.00</span>, <div class=\"rgHvZc\"><a href=\"/url?q=https://www.ebay.com/itm/154450770961%3Fchn%3Dps%26mkevt%3D1%26mkcid%3D28&amp;sa=U&amp;ved=0ahUKEwiNvPKp3Lz1AhU5JEQIHchbCC0Q2SkIQw&amp;usg=AOvVaw0kxcLZwHobtBB1b0YKApdN\"><b>Crestron Dm</b>-<b>tx</b>-<b>200</b>-<b>2g</b> Wall Plate Digitalmedia Cat Transmitter <b>200</b></a></div>, <span class=\"HRLxBb\">$55.00</span>, <div class=\"rgHvZc\"><a href=\"/url?q=https://www.4tecdirect.com/crestron-cg-dm-tx-200-c-2g-b-t.aspx&amp;sa=U&amp;ved=0ahUKEwiNvPKp3Lz1AhU5JEQIHchbCC0Q2SkIRg&amp;usg=AOvVaw3NG0N2bHPKa1jiBzO8l4K0\"><b>Crestron</b> CG-<b>DM</b>-<b>TX</b>-<b>200</b>-<b>C</b>-<b>2G</b>-B-T</a></div>, <span class=\"HRLxBb\">$1,800.00</span>, <div class=\"rgHvZc\"><a href=\"/url?q=https://www.bhphotovideo.com/c/product/1184312-REG/fsr_mms_fl_200_4_crestron_dm_tx_200_c_2g_wallplate_mounting.html%3Fkw%3DFSMMSFL2004%26ap%3Dy%26smp%3Dy%26BI%3DE6540&amp;sa=U&amp;ved=0ahUKEwiNvPKp3Lz1AhU5JEQIHchbCC0Q2SkISQ&amp;usg=AOvVaw3Kn75WP90pU8rNOVCwbwQp\">FSR <b>Crestron DM</b>-<b>TX</b>-<b>200</b>-<b>C</b>-<b>2G</b> Mounting Bracket <b>with</b> Blank Wall Plate for 4\" Deep Box A/V Presentation Audio Digital Signage Home Theater Networking</a></div>, <span class=\"HRLxBb\">$79.95</span>, <div class=\"rgHvZc\"><a href=\"/url?q=http://proavwarehouse.com/pro-av-brands/crestron/crestron-hd-tx-201-c-2g-e-w-t-dm-lite-hdmi-over-catx-transmitter-2x1-auto-switcher-w-vga-analog-audio-wall-plate-white-textured/&amp;sa=U&amp;ved=0ahUKEwiNvPKp3Lz1AhU5JEQIHchbCC0Q2SkITA&amp;usg=AOvVaw1fEYRuftq9v0SO4EblHPhC\"><b>Crestron</b> HD-<b>TX</b>-201-<b>C</b>-<b>2G</b>-E-W-T <b>DM</b> Lite Ð HDMI over CATx Transmitter &amp; 2x1 Auto-Switcher <b>w</b>/VGA &amp; Analog Audio, Wall Plate, White Textured</a></div>, <span class=\"HRLxBb\">$950.00</span>, <div class=\"rgHvZc\"><a href=\"/url?q=http://proavwarehouse.com/pro-av-brands/crestron/crestron-hd-tx-201-c-2g-e-b-t-dm-lite-hdmi-over-catx-transmitter-2x1-auto-switcher-w-vga-analog-audio-wall-plate-black-textured/&amp;sa=U&amp;ved=0ahUKEwiNvPKp3Lz1AhU5JEQIHchbCC0Q2SkITw&amp;usg=AOvVaw1pmjYnjRHibrM8Bq_NrNzl\"><b>Crestron</b> HD-<b>TX</b>-201-<b>C</b>-<b>2G</b>-E-B-T <b>DM</b> Lite Ð HDMI over CATx Transmitter &amp; 2x1 Auto-Switcher <b>w</b>/VGA &amp; Analog Audio, Wall Plate, Black Textured</a></div>, <span class=\"HRLxBb\">$950.00</span>, <div class=\"rgHvZc\"><a href=\"/url?q=https://www.mercari.com/us/item/m38508447275/&amp;sa=U&amp;ved=0ahUKEwiNvPKp3Lz1AhU5JEQIHchbCC0Q2SkIUg&amp;usg=AOvVaw02W88k8J-Qb6HnKlSO9jcq\"><b>Crestron DM</b>-<b>TX</b>-<b>200</b>-<b>2G</b> - New Electronics | Color: Black</a></div>, <span class=\"HRLxBb\">$25.00</span>, <div class=\"rgHvZc\"><a href=\"/url?q=http://proavwarehouse.com/pro-av-brands/crestron/crestron-cg-dm-tx-200-c-2g-b-t-floor-tank-with-dm-tx-200-c-2g-b-t/&amp;sa=U&amp;ved=0ahUKEwiNvPKp3Lz1AhU5JEQIHchbCC0Q2SkIVQ&amp;usg=AOvVaw2MZWHw4i9W9BeKw7A8LLcj\"><b>Crestron</b> CG-<b>DM</b>-<b>TX</b>-<b>200</b>-<b>C</b>-<b>2G</b>-B-T Floor Tank <b>with DM</b>-<b>TX</b>-<b>200</b>-<b>C</b>-<b>2G</b>-B-T</a></div>, <span class=\"HRLxBb\">$1,800.00</span>, <div class=\"rgHvZc\"><a href=\"/url?q=https://www.ebay.com/itm/324142729975%3Fchn%3Dps%26mkevt%3D1%26mkcid%3D28&amp;sa=U&amp;ved=0ahUKEwiNvPKp3Lz1AhU5JEQIHchbCC0Q2SkIWA&amp;usg=AOvVaw18K13sUxnikZPaZhoRi1IX\"><b>Crestron Dm</b>-<b>tx</b>-4k-202-<b>c</b> (loc 37e)</a></div>, <span class=\"HRLxBb\">$79.99</span>, <div class=\"rgHvZc\"><a href=\"/url?q=https://www.ebay.com/itm/255324268269%3Fchn%3Dps%26mkevt%3D1%26mkcid%3D28&amp;sa=U&amp;ved=0ahUKEwiNvPKp3Lz1AhU5JEQIHchbCC0Q2SkIWw&amp;usg=AOvVaw1BgR94JqLHplRtjGlWIXri\"><b>Crestron Dm</b>-<b>tx</b>-201-<b>c</b> Digitalmedia 8g+ Transmitter -</a></div>, <span class=\"HRLxBb\">$300.00</span>, <div class=\"rgHvZc\"><a href=\"/url?q=https://www.fullcompass.com/prod/593656-crestron-dm-tx-4kz-100-c-1gbt-digitalmedia-8g-4k60-4-4-4-hdr-wall-plate-transmitter-bla%3Fdfw_tracker%3D36058-593656&amp;sa=U&amp;ved=0ahUKEwiNvPKp3Lz1AhU5JEQIHchbCC0QsDwIXg&amp;usg=AOvVaw01JCpKJ1aMH1-jeNFK6Lep\"><b>Crestron DM</b>-<b>TX</b>-4KZ-100-<b>C</b>-1G-B-T DigitalMedia 8G+ 4K60 4:4:4 HDR Wall Plate Transmitter, Black</a></div>, <span class=\"HRLxBb\">$1,000.00</span>, <div class=\"rgHvZc\"><a href=\"/url?q=http://proavwarehouse.com/pro-av-brands/crestron/crestron-dm-tx-4k-100-c-1g-w-t-wall-plate-4k-digitalmedia-8g-transmitter-100-white-textured/&amp;sa=U&amp;ved=0ahUKEwiNvPKp3Lz1AhU5JEQIHchbCC0QsDwIYg&amp;usg=AOvVaw2kmbQreE7j4AIpq_wAVb2d\"><b>Crestron DM</b>-<b>TX</b>-4K-100-<b>C</b>-1G-<b>W-T</b> Wall Plate 4K DigitalMedia 8G+ Transmitter 100, White Textured</a></div>, <span class=\"HRLxBb\">$700.00</span>, <div class=\"rgHvZc\"><a href=\"/url?q=https://www.ebay.com/itm/144314239561%3Fchn%3Dps%26mkevt%3D1%26mkcid%3D28&amp;sa=U&amp;ved=0ahUKEwiNvPKp3Lz1AhU5JEQIHchbCC0Q2SkIZg&amp;usg=AOvVaw1GFbDuY_8O1NN6y4jaLaGP\"><b>Crestron Dm</b>-<b>tx</b>-201-<b>c</b> Hdmi Digital Media 8g+ Transmitter</a></div>, <span class=\"HRLxBb\">$559.00</span>, <div class=\"rgHvZc\"><a href=\"/url?q=https://www.4tecdirect.com/fp-g2-dm-w-t.aspx&amp;sa=U&amp;ved=0ahUKEwiNvPKp3Lz1AhU5JEQIHchbCC0Q2SkIaQ&amp;usg=AOvVaw2yTGuxcb82C6QSunLwz7_o\"><b>Crestron</b> FP-G2-<b>DM</b>-<b>W-T</b></a></div>, <span class=\"HRLxBb\">$20.00</span>, <div class=\"rgHvZc\"><a href=\"/url?q=https://www.ebay.com/itm/324984504649%3Fchn%3Dps%26mkevt%3D1%26mkcid%3D28&amp;sa=U&amp;ved=0ahUKEwiNvPKp3Lz1AhU5JEQIHchbCC0Q2SkIbA&amp;usg=AOvVaw1iziezvLmRKqP5i5kS-Pr-\"><b>Crestron Dm</b>-<b>tx</b>-4kz-302-<b>c</b> 6508078 4k60 4:4:4 Hdr Transmitter 302</a></div>, <span class=\"HRLxBb\">$325.00</span>]\n"
     ]
    }
   ],
   "source": [
    "search_params = ['Crestron MPC3-102-B','crestron dm-tx-200-c-2g-w-t']\n",
    "GSS = GoogleShopScraper(search_params)\n",
    "GSS.extract_prices()"
   ]
  },
  {
   "cell_type": "code",
   "execution_count": 66,
   "id": "4db6e42f-eb6a-421b-a267-245bf792118f",
   "metadata": {
    "tags": []
   },
   "outputs": [
    {
     "data": {
      "text/plain": [
       "[<div class=\"rgHvZc\"><a href=\"/url?q=https://www.ebay.com/itm/123418334443%3Fchn%3Dps%26mkevt%3D1%26mkcid%3D28&amp;sa=U&amp;ved=0ahUKEwiNvPKp3Lz1AhU5JEQIHchbCC0Q2SkILw&amp;usg=AOvVaw0LcPXXjdB09Jw9GZPQojEG\"><b>Crestron Dm</b>-<b>tx</b>-<b>200</b>-<b>c</b>-<b>2g</b>-<b>w-t</b> Wall Plate Digitalmedia 8g+ Transmitter,</a></div>,\n",
       " <span class=\"HRLxBb\">$950.00</span>,\n",
       " <div class=\"rgHvZc\"><a href=\"/url?q=http://proavwarehouse.com/pro-av-brands/crestron/crestron-dm-tx-200-c-2g-w-t-wall-plate-digitalmedia-8g-transmitter-200-white-textured/&amp;sa=U&amp;ved=0ahUKEwiNvPKp3Lz1AhU5JEQIHchbCC0QsDwIMg&amp;usg=AOvVaw18D5aE7VW8IKLaGfnI0dWS\"><b>Crestron DM</b>-<b>TX</b>-<b>200</b>-<b>C</b>-<b>2G</b>-<b>W-T</b> Wall Plate DigitalMedia 8G+ Transmitter <b>200</b>, White Textured</a></div>,\n",
       " <span class=\"HRLxBb\">$1,400.00</span>,\n",
       " <div class=\"rgHvZc\"><a href=\"/url?q=https://www.fullcompass.com/prod/560945-crestron-dm-tx-200-c-2g-wall-plate-digitalmedia-8g-transmitter-200%3Fdfw_tracker%3D36058-560945-0002&amp;sa=U&amp;ved=0ahUKEwiNvPKp3Lz1AhU5JEQIHchbCC0Q2SkINg&amp;usg=AOvVaw1ldZ5wzujyW1AwmoRY8Nch\"><b>Crestron DM</b>-<b>TX</b>-<b>200</b>-<b>C</b>-<b>2G</b> Wall Plate DigitalMedia 8G+ Transmitter <b>200</b> - White</a></div>,\n",
       " <span class=\"HRLxBb\">$1,400.00</span>,\n",
       " <div class=\"rgHvZc\"><a href=\"/url?q=https://www.4tecdirect.com/Crestron-DM-TX-200-2G-W-T&amp;sa=U&amp;ved=0ahUKEwiNvPKp3Lz1AhU5JEQIHchbCC0Q2SkIOQ&amp;usg=AOvVaw2Ikri6T28J3BiDhWTkC7R3\"><b>Crestron DM</b>-<b>TX</b>-<b>200</b>-<b>2G</b>-<b>W-T</b></a></div>,\n",
       " <span class=\"HRLxBb\">$1,200.00</span>,\n",
       " <div class=\"rgHvZc\"><a href=\"/url?q=https://www.ebay.com/itm/224702453523%3Fchn%3Dps%26mkevt%3D1%26mkcid%3D28&amp;sa=U&amp;ved=0ahUKEwiNvPKp3Lz1AhU5JEQIHchbCC0QsDwIPA&amp;usg=AOvVaw0DSl5MT-3Hj5urrrUOK3ft\"><b>Crestron DM</b>-<b>TX</b>-<b>200</b> HDMI Digital Media Cat Transmitter <b>200</b></a></div>,\n",
       " <span class=\"HRLxBb\">$50.00</span>,\n",
       " <div class=\"rgHvZc\"><a href=\"/url?q=http://proavwarehouse.com/pro-av-brands/crestron/crestron-fp-g2-dm-w-t-2-gang-decorator-style-faceplate-for-hd-md-300-c-e-and-dm-tx-200-c-2g-series-white-textured/&amp;sa=U&amp;ved=0ahUKEwiNvPKp3Lz1AhU5JEQIHchbCC0Q2SkIQA&amp;usg=AOvVaw0IYkReyFfencreSMkldrJl\"><b>Crestron</b> FP-G2-<b>DM</b>-<b>W-T</b> 2-Gang Decorator Style Faceplate for HD-MD-300-C-E and <b>DM</b>-<b>TX</b>-<b>200</b>-<b>C</b>-<b>2G</b> Series, White Textured</a></div>,\n",
       " <span class=\"HRLxBb\">$20.00</span>,\n",
       " <div class=\"rgHvZc\"><a href=\"/url?q=https://www.ebay.com/itm/154450770961%3Fchn%3Dps%26mkevt%3D1%26mkcid%3D28&amp;sa=U&amp;ved=0ahUKEwiNvPKp3Lz1AhU5JEQIHchbCC0Q2SkIQw&amp;usg=AOvVaw0kxcLZwHobtBB1b0YKApdN\"><b>Crestron Dm</b>-<b>tx</b>-<b>200</b>-<b>2g</b> Wall Plate Digitalmedia Cat Transmitter <b>200</b></a></div>,\n",
       " <span class=\"HRLxBb\">$55.00</span>,\n",
       " <div class=\"rgHvZc\"><a href=\"/url?q=https://www.4tecdirect.com/crestron-cg-dm-tx-200-c-2g-b-t.aspx&amp;sa=U&amp;ved=0ahUKEwiNvPKp3Lz1AhU5JEQIHchbCC0Q2SkIRg&amp;usg=AOvVaw3NG0N2bHPKa1jiBzO8l4K0\"><b>Crestron</b> CG-<b>DM</b>-<b>TX</b>-<b>200</b>-<b>C</b>-<b>2G</b>-B-T</a></div>,\n",
       " <span class=\"HRLxBb\">$1,800.00</span>,\n",
       " <div class=\"rgHvZc\"><a href=\"/url?q=https://www.bhphotovideo.com/c/product/1184312-REG/fsr_mms_fl_200_4_crestron_dm_tx_200_c_2g_wallplate_mounting.html%3Fkw%3DFSMMSFL2004%26ap%3Dy%26smp%3Dy%26BI%3DE6540&amp;sa=U&amp;ved=0ahUKEwiNvPKp3Lz1AhU5JEQIHchbCC0Q2SkISQ&amp;usg=AOvVaw3Kn75WP90pU8rNOVCwbwQp\">FSR <b>Crestron DM</b>-<b>TX</b>-<b>200</b>-<b>C</b>-<b>2G</b> Mounting Bracket <b>with</b> Blank Wall Plate for 4\" Deep Box A/V Presentation Audio Digital Signage Home Theater Networking</a></div>,\n",
       " <span class=\"HRLxBb\">$79.95</span>,\n",
       " <div class=\"rgHvZc\"><a href=\"/url?q=http://proavwarehouse.com/pro-av-brands/crestron/crestron-hd-tx-201-c-2g-e-w-t-dm-lite-hdmi-over-catx-transmitter-2x1-auto-switcher-w-vga-analog-audio-wall-plate-white-textured/&amp;sa=U&amp;ved=0ahUKEwiNvPKp3Lz1AhU5JEQIHchbCC0Q2SkITA&amp;usg=AOvVaw1fEYRuftq9v0SO4EblHPhC\"><b>Crestron</b> HD-<b>TX</b>-201-<b>C</b>-<b>2G</b>-E-W-T <b>DM</b> Lite Ð HDMI over CATx Transmitter &amp; 2x1 Auto-Switcher <b>w</b>/VGA &amp; Analog Audio, Wall Plate, White Textured</a></div>,\n",
       " <span class=\"HRLxBb\">$950.00</span>,\n",
       " <div class=\"rgHvZc\"><a href=\"/url?q=http://proavwarehouse.com/pro-av-brands/crestron/crestron-hd-tx-201-c-2g-e-b-t-dm-lite-hdmi-over-catx-transmitter-2x1-auto-switcher-w-vga-analog-audio-wall-plate-black-textured/&amp;sa=U&amp;ved=0ahUKEwiNvPKp3Lz1AhU5JEQIHchbCC0Q2SkITw&amp;usg=AOvVaw1pmjYnjRHibrM8Bq_NrNzl\"><b>Crestron</b> HD-<b>TX</b>-201-<b>C</b>-<b>2G</b>-E-B-T <b>DM</b> Lite Ð HDMI over CATx Transmitter &amp; 2x1 Auto-Switcher <b>w</b>/VGA &amp; Analog Audio, Wall Plate, Black Textured</a></div>,\n",
       " <span class=\"HRLxBb\">$950.00</span>,\n",
       " <div class=\"rgHvZc\"><a href=\"/url?q=https://www.mercari.com/us/item/m38508447275/&amp;sa=U&amp;ved=0ahUKEwiNvPKp3Lz1AhU5JEQIHchbCC0Q2SkIUg&amp;usg=AOvVaw02W88k8J-Qb6HnKlSO9jcq\"><b>Crestron DM</b>-<b>TX</b>-<b>200</b>-<b>2G</b> - New Electronics | Color: Black</a></div>,\n",
       " <span class=\"HRLxBb\">$25.00</span>,\n",
       " <div class=\"rgHvZc\"><a href=\"/url?q=http://proavwarehouse.com/pro-av-brands/crestron/crestron-cg-dm-tx-200-c-2g-b-t-floor-tank-with-dm-tx-200-c-2g-b-t/&amp;sa=U&amp;ved=0ahUKEwiNvPKp3Lz1AhU5JEQIHchbCC0Q2SkIVQ&amp;usg=AOvVaw2MZWHw4i9W9BeKw7A8LLcj\"><b>Crestron</b> CG-<b>DM</b>-<b>TX</b>-<b>200</b>-<b>C</b>-<b>2G</b>-B-T Floor Tank <b>with DM</b>-<b>TX</b>-<b>200</b>-<b>C</b>-<b>2G</b>-B-T</a></div>,\n",
       " <span class=\"HRLxBb\">$1,800.00</span>,\n",
       " <div class=\"rgHvZc\"><a href=\"/url?q=https://www.ebay.com/itm/324142729975%3Fchn%3Dps%26mkevt%3D1%26mkcid%3D28&amp;sa=U&amp;ved=0ahUKEwiNvPKp3Lz1AhU5JEQIHchbCC0Q2SkIWA&amp;usg=AOvVaw18K13sUxnikZPaZhoRi1IX\"><b>Crestron Dm</b>-<b>tx</b>-4k-202-<b>c</b> (loc 37e)</a></div>,\n",
       " <span class=\"HRLxBb\">$79.99</span>,\n",
       " <div class=\"rgHvZc\"><a href=\"/url?q=https://www.ebay.com/itm/255324268269%3Fchn%3Dps%26mkevt%3D1%26mkcid%3D28&amp;sa=U&amp;ved=0ahUKEwiNvPKp3Lz1AhU5JEQIHchbCC0Q2SkIWw&amp;usg=AOvVaw1BgR94JqLHplRtjGlWIXri\"><b>Crestron Dm</b>-<b>tx</b>-201-<b>c</b> Digitalmedia 8g+ Transmitter -</a></div>,\n",
       " <span class=\"HRLxBb\">$300.00</span>,\n",
       " <div class=\"rgHvZc\"><a href=\"/url?q=https://www.fullcompass.com/prod/593656-crestron-dm-tx-4kz-100-c-1gbt-digitalmedia-8g-4k60-4-4-4-hdr-wall-plate-transmitter-bla%3Fdfw_tracker%3D36058-593656&amp;sa=U&amp;ved=0ahUKEwiNvPKp3Lz1AhU5JEQIHchbCC0QsDwIXg&amp;usg=AOvVaw01JCpKJ1aMH1-jeNFK6Lep\"><b>Crestron DM</b>-<b>TX</b>-4KZ-100-<b>C</b>-1G-B-T DigitalMedia 8G+ 4K60 4:4:4 HDR Wall Plate Transmitter, Black</a></div>,\n",
       " <span class=\"HRLxBb\">$1,000.00</span>,\n",
       " <div class=\"rgHvZc\"><a href=\"/url?q=http://proavwarehouse.com/pro-av-brands/crestron/crestron-dm-tx-4k-100-c-1g-w-t-wall-plate-4k-digitalmedia-8g-transmitter-100-white-textured/&amp;sa=U&amp;ved=0ahUKEwiNvPKp3Lz1AhU5JEQIHchbCC0QsDwIYg&amp;usg=AOvVaw2kmbQreE7j4AIpq_wAVb2d\"><b>Crestron DM</b>-<b>TX</b>-4K-100-<b>C</b>-1G-<b>W-T</b> Wall Plate 4K DigitalMedia 8G+ Transmitter 100, White Textured</a></div>,\n",
       " <span class=\"HRLxBb\">$700.00</span>,\n",
       " <div class=\"rgHvZc\"><a href=\"/url?q=https://www.ebay.com/itm/144314239561%3Fchn%3Dps%26mkevt%3D1%26mkcid%3D28&amp;sa=U&amp;ved=0ahUKEwiNvPKp3Lz1AhU5JEQIHchbCC0Q2SkIZg&amp;usg=AOvVaw1GFbDuY_8O1NN6y4jaLaGP\"><b>Crestron Dm</b>-<b>tx</b>-201-<b>c</b> Hdmi Digital Media 8g+ Transmitter</a></div>,\n",
       " <span class=\"HRLxBb\">$559.00</span>,\n",
       " <div class=\"rgHvZc\"><a href=\"/url?q=https://www.4tecdirect.com/fp-g2-dm-w-t.aspx&amp;sa=U&amp;ved=0ahUKEwiNvPKp3Lz1AhU5JEQIHchbCC0Q2SkIaQ&amp;usg=AOvVaw2yTGuxcb82C6QSunLwz7_o\"><b>Crestron</b> FP-G2-<b>DM</b>-<b>W-T</b></a></div>,\n",
       " <span class=\"HRLxBb\">$20.00</span>,\n",
       " <div class=\"rgHvZc\"><a href=\"/url?q=https://www.ebay.com/itm/324984504649%3Fchn%3Dps%26mkevt%3D1%26mkcid%3D28&amp;sa=U&amp;ved=0ahUKEwiNvPKp3Lz1AhU5JEQIHchbCC0Q2SkIbA&amp;usg=AOvVaw1iziezvLmRKqP5i5kS-Pr-\"><b>Crestron Dm</b>-<b>tx</b>-4kz-302-<b>c</b> 6508078 4k60 4:4:4 Hdr Transmitter 302</a></div>,\n",
       " <span class=\"HRLxBb\">$325.00</span>]"
      ]
     },
     "execution_count": 66,
     "metadata": {},
     "output_type": "execute_result"
    }
   ],
   "source": [
    "information = GSS.items[1]\n",
    "information"
   ]
  },
  {
   "cell_type": "code",
   "execution_count": 71,
   "id": "c0edde15-9252-4974-b0c6-f91158011348",
   "metadata": {},
   "outputs": [
    {
     "data": {
      "text/plain": [
       "['Crestron Dmtx200c2gw-t',\n",
       " 'Crestron DMTX200C2GW-T200',\n",
       " 'Crestron DMTX200C2G200',\n",
       " 'Crestron DMTX2002GW-T',\n",
       " 'Crestron DMTX200200',\n",
       " 'CrestronDMW-TDMTX200C2G',\n",
       " 'Crestron Dmtx2002g200',\n",
       " 'CrestronDMTX200C2G',\n",
       " 'Crestron DMTX200C2Gwith',\n",
       " 'CrestronTXC2GDMw',\n",
       " 'CrestronTXC2GDMw',\n",
       " 'Crestron DMTX2002G',\n",
       " 'CrestronDMTX200C2Gwith DMTX200C2G',\n",
       " 'Crestron Dmtxc',\n",
       " 'Crestron Dmtxc',\n",
       " 'Crestron DMTXC',\n",
       " 'Crestron DMTXCW-T',\n",
       " 'Crestron Dmtxc',\n",
       " 'CrestronDMW-T',\n",
       " 'Crestron Dmtxc']"
      ]
     },
     "execution_count": 71,
     "metadata": {},
     "output_type": "execute_result"
    }
   ],
   "source": [
    "def list_to_line(b_list: List):\n",
    "    final_str = \"\".join([string.get_text() for string in b_list])\n",
    "    return final_str\n",
    "\n",
    "search_strings = [list_to_line(information[i].select('b')) for i in range(len(information)) if i%2 == 0]\n",
    "search_strings"
   ]
  },
  {
   "cell_type": "code",
   "execution_count": 93,
   "id": "d86d971c-aef1-4023-a6c0-0a6e13958c2c",
   "metadata": {},
   "outputs": [
    {
     "data": {
      "text/plain": [
       "[950.0,\n",
       " 1400.0,\n",
       " 1400.0,\n",
       " 1200.0,\n",
       " 50.0,\n",
       " 20.0,\n",
       " 55.0,\n",
       " 1800.0,\n",
       " 79.95,\n",
       " 950.0,\n",
       " 950.0,\n",
       " 25.0,\n",
       " 1800.0,\n",
       " 79.99,\n",
       " 300.0,\n",
       " 1000.0,\n",
       " 700.0,\n",
       " 559.0,\n",
       " 20.0,\n",
       " 325.0]"
      ]
     },
     "execution_count": 93,
     "metadata": {},
     "output_type": "execute_result"
    }
   ],
   "source": [
    "def string_to_float(string: str):\n",
    "    clean_string = string.replace(\"$\",\"\").replace(\",\",\"\")\n",
    "    number = float(clean_string)\n",
    "    return number\n",
    "\n",
    "search_prices = [string_to_float(information[i].get_text()) for i in range(len(information)) if i%2 != 0]\n",
    "search_prices"
   ]
  },
  {
   "cell_type": "code",
   "execution_count": 105,
   "id": "5778f16a-c8ad-4031-b195-19918dcead33",
   "metadata": {},
   "outputs": [],
   "source": [
    "def sort_tuples(tup):\n",
    "    tup.sort(key = lambda x: x[1],reverse=True)\n",
    "    return tup"
   ]
  },
  {
   "cell_type": "code",
   "execution_count": 106,
   "id": "5e4314e3-39c7-436e-b97d-9f7f47655b87",
   "metadata": {},
   "outputs": [
    {
     "name": "stdout",
     "output_type": "stream",
     "text": [
      "[('Crestron Dmtx200c2gw-t', 950.0), ('Crestron DMTX200C2GW-T200', 1400.0), ('Crestron DMTX200C2G200', 1400.0), ('Crestron DMTX2002GW-T', 1200.0), ('Crestron DMTX200200', 50.0), ('CrestronDMW-TDMTX200C2G', 20.0), ('Crestron Dmtx2002g200', 55.0), ('CrestronDMTX200C2G', 1800.0), ('Crestron DMTX200C2Gwith', 79.95), ('CrestronTXC2GDMw', 950.0), ('CrestronTXC2GDMw', 950.0), ('Crestron DMTX2002G', 25.0), ('CrestronDMTX200C2Gwith DMTX200C2G', 1800.0), ('Crestron Dmtxc', 79.99), ('Crestron Dmtxc', 300.0), ('Crestron DMTXC', 1000.0), ('Crestron DMTXCW-T', 700.0), ('Crestron Dmtxc', 559.0), ('CrestronDMW-T', 20.0), ('Crestron Dmtxc', 325.0)]\n",
      "[['CrestronDMTX200C2G' '1800.0']\n",
      " ['CrestronDMTX200C2Gwith DMTX200C2G' '1800.0']\n",
      " ['Crestron DMTX200C2GW-T200' '1400.0']\n",
      " ['Crestron DMTX200C2G200' '1400.0']\n",
      " ['Crestron DMTX2002GW-T' '1200.0']\n",
      " ['Crestron DMTXC' '1000.0']\n",
      " ['Crestron Dmtx200c2gw-t' '950.0']\n",
      " ['CrestronTXC2GDMw' '950.0']\n",
      " ['CrestronTXC2GDMw' '950.0']\n",
      " ['Crestron DMTXCW-T' '700.0']\n",
      " ['Crestron Dmtxc' '559.0']\n",
      " ['Crestron Dmtxc' '325.0']\n",
      " ['Crestron Dmtxc' '300.0']\n",
      " ['Crestron Dmtxc' '79.99']\n",
      " ['Crestron DMTX200C2Gwith' '79.95']\n",
      " ['Crestron Dmtx2002g200' '55.0']\n",
      " ['Crestron DMTX200200' '50.0']\n",
      " ['Crestron DMTX2002G' '25.0']\n",
      " ['CrestronDMW-TDMTX200C2G' '20.0']\n",
      " ['CrestronDMW-T' '20.0']]\n"
     ]
    }
   ],
   "source": [
    "final_data = []\n",
    "for item_search in zip(search_strings,search_prices):\n",
    "    final_data.append(item_search)\n",
    "print(final_data)\n",
    "final = np.array(sort_tuples(final_data))\n",
    "print(final)"
   ]
  }
 ],
 "metadata": {
  "kernelspec": {
   "display_name": "walker",
   "language": "python",
   "name": "walker"
  },
  "language_info": {
   "codemirror_mode": {
    "name": "ipython",
    "version": 3
   },
   "file_extension": ".py",
   "mimetype": "text/x-python",
   "name": "python",
   "nbconvert_exporter": "python",
   "pygments_lexer": "ipython3",
   "version": "3.9.7"
  }
 },
 "nbformat": 4,
 "nbformat_minor": 5
}

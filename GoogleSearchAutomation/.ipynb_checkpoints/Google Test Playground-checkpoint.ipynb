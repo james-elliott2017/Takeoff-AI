{
 "cells": [
  {
   "cell_type": "code",
   "execution_count": 1,
   "id": "d592b041-2de4-4c73-bb92-9f41a00c316f",
   "metadata": {},
   "outputs": [],
   "source": [
    "from GoogleSearchManager import GoogleShopScraper,GoogleShopMain\n",
    "import numpy as np\n",
    "from typing import List, Tuple, Iterator,Optional\n",
    "import time\n",
    "import statistics\n",
    "import pandas as pd"
   ]
  },
  {
   "cell_type": "markdown",
   "id": "9c2fb3d8-0117-4a7a-8d9e-46ff65d5352c",
   "metadata": {},
   "source": [
    "# V2 - Functioning Code for Daily Use"
   ]
  },
  {
   "cell_type": "code",
   "execution_count": 2,
   "id": "e1ede818-2cfe-4af4-85fb-ca6823f06159",
   "metadata": {},
   "outputs": [],
   "source": [
    "search_parameters = [\"toothpaste\", \"super mario sunshine\", \"winny the poo\"]\n",
    "\n",
    "save_to_excel = True\n",
    "num_of_datapoints_for_averaging = 5 #takes \"#\" of most expensive items for averaging and variance"
   ]
  },
  {
   "cell_type": "code",
   "execution_count": 3,
   "id": "8044e5a3-10a4-45c5-939f-6848b0c1dfe1",
   "metadata": {},
   "outputs": [
    {
     "name": "stdout",
     "output_type": "stream",
     "text": [
      "Excel File Save Succesful\n"
     ]
    },
    {
     "data": {
      "text/html": [
       "<div>\n",
       "<style scoped>\n",
       "    .dataframe tbody tr th:only-of-type {\n",
       "        vertical-align: middle;\n",
       "    }\n",
       "\n",
       "    .dataframe tbody tr th {\n",
       "        vertical-align: top;\n",
       "    }\n",
       "\n",
       "    .dataframe thead th {\n",
       "        text-align: right;\n",
       "    }\n",
       "</style>\n",
       "<table border=\"1\" class=\"dataframe\">\n",
       "  <thead>\n",
       "    <tr style=\"text-align: right;\">\n",
       "      <th></th>\n",
       "      <th>Part Number</th>\n",
       "      <th>Average Price</th>\n",
       "      <th>Max</th>\n",
       "      <th>Variance</th>\n",
       "    </tr>\n",
       "  </thead>\n",
       "  <tbody>\n",
       "    <tr>\n",
       "      <th>0</th>\n",
       "      <td>Pronamel Gentle Whitening Enamel Toothpaste fo...</td>\n",
       "      <td>16.967188</td>\n",
       "      <td>22.4</td>\n",
       "      <td>16.819165</td>\n",
       "    </tr>\n",
       "    <tr>\n",
       "      <th>1</th>\n",
       "      <td>Super Mario Sunshine Nintendo GameCube Video Game</td>\n",
       "      <td>798.200000</td>\n",
       "      <td>2000.0</td>\n",
       "      <td>581916.200000</td>\n",
       "    </tr>\n",
       "    <tr>\n",
       "      <th>2</th>\n",
       "      <td>Lego 21326 Ideas Winnie The PoohWinnie The Pooh</td>\n",
       "      <td>54.800000</td>\n",
       "      <td>100.0</td>\n",
       "      <td>668.700000</td>\n",
       "    </tr>\n",
       "  </tbody>\n",
       "</table>\n",
       "</div>"
      ],
      "text/plain": [
       "                                         Part Number  Average Price     Max  \\\n",
       "0  Pronamel Gentle Whitening Enamel Toothpaste fo...      16.967188    22.4   \n",
       "1  Super Mario Sunshine Nintendo GameCube Video Game     798.200000  2000.0   \n",
       "2    Lego 21326 Ideas Winnie The PoohWinnie The Pooh      54.800000   100.0   \n",
       "\n",
       "        Variance  \n",
       "0      16.819165  \n",
       "1  581916.200000  \n",
       "2     668.700000  "
      ]
     },
     "execution_count": 3,
     "metadata": {},
     "output_type": "execute_result"
    }
   ],
   "source": [
    "GSM = GoogleShopMain(search_params=search_parameters)\n",
    "GSM.run(num_of_items=num_of_datapoints_for_averaging,excel_save=save_to_excel)"
   ]
  },
  {
   "cell_type": "code",
   "execution_count": null,
   "id": "f8482939-7d7b-41a2-91fb-b4147eefc303",
   "metadata": {},
   "outputs": [],
   "source": []
  },
  {
   "cell_type": "markdown",
   "id": "c070c693-3fcd-416f-89be-00f720005e24",
   "metadata": {
    "jp-MarkdownHeadingCollapsed": true,
    "tags": []
   },
   "source": [
    "# GoogleShopScraper V1 Test Code & Debug Code"
   ]
  },
  {
   "cell_type": "code",
   "execution_count": null,
   "id": "d98529e7-3bdb-4b8d-85d8-3ea39d1ad6d0",
   "metadata": {
    "tags": []
   },
   "outputs": [],
   "source": [
    "search_params = ['Crestron MPC3-102-B','crestron dm-tx-200-c-2g-w-t','coolgate toothpaste']\n",
    "GSS = GoogleShopScraper(search_params)\n",
    "\n",
    "start = time.time()\n",
    "GSS.extract_prices()\n",
    "stop = time.time()\n",
    "print(f\"Processing time for {len(search_params)} items was {stop - start}\")"
   ]
  },
  {
   "cell_type": "code",
   "execution_count": null,
   "id": "690729db-21bd-4fdb-bd1e-afb2b80e5473",
   "metadata": {},
   "outputs": [],
   "source": [
    "# Check Raw URLs\n",
    "GSS.urls"
   ]
  },
  {
   "cell_type": "code",
   "execution_count": null,
   "id": "1067a039-0b18-4266-acc2-755b60fc4adc",
   "metadata": {
    "tags": []
   },
   "outputs": [],
   "source": [
    "#Check Raw Returned Request\n",
    "GSS.soup_pages[1]"
   ]
  },
  {
   "cell_type": "code",
   "execution_count": null,
   "id": "a0421d3f-19fc-4c16-b65b-1158b08c38df",
   "metadata": {},
   "outputs": [],
   "source": []
  },
  {
   "cell_type": "code",
   "execution_count": null,
   "id": "4db6e42f-eb6a-421b-a267-245bf792118f",
   "metadata": {
    "tags": []
   },
   "outputs": [],
   "source": [
    "information = GSS.items[0]\n",
    "information[0].select('a, b')[0].get_text()"
   ]
  },
  {
   "cell_type": "code",
   "execution_count": null,
   "id": "c0edde15-9252-4974-b0c6-f91158011348",
   "metadata": {},
   "outputs": [],
   "source": [
    "def list_to_line(b_list: List[str]) -> str:\n",
    "    final_str = \"\".join([string.get_text() for string in b_list])\n",
    "    return final_str\n",
    "\n",
    "search_strings = [list_to_line(information[i].select('a, b')) for i in range(len(information)) if i%2 == 0]\n",
    "search_strings"
   ]
  },
  {
   "cell_type": "code",
   "execution_count": null,
   "id": "d86d971c-aef1-4023-a6c0-0a6e13958c2c",
   "metadata": {},
   "outputs": [],
   "source": [
    "def string_to_float(string: str):\n",
    "    clean_string = \"\".join(i for i in string if i.isdigit() or (i in \"-.\"))\n",
    "    number = float(clean_string)\n",
    "    return number\n",
    "search_prices = [string_to_float(information[i].get_text()) for i in range(len(information)) if i%2 != 0]\n",
    "search_prices"
   ]
  },
  {
   "cell_type": "markdown",
   "id": "30eb4cb3-4ef7-4584-9bc0-b1d2556d59ff",
   "metadata": {
    "jp-MarkdownHeadingCollapsed": true,
    "tags": []
   },
   "source": [
    "# Data Conversion Functions"
   ]
  },
  {
   "cell_type": "code",
   "execution_count": null,
   "id": "5778f16a-c8ad-4031-b195-19918dcead33",
   "metadata": {},
   "outputs": [],
   "source": [
    "def sort_tuples(tup):\n",
    "    tup.sort(key = lambda x: x[1],reverse=True)\n",
    "    return tup"
   ]
  },
  {
   "cell_type": "code",
   "execution_count": null,
   "id": "5e4314e3-39c7-436e-b97d-9f7f47655b87",
   "metadata": {},
   "outputs": [],
   "source": [
    "final_data = []\n",
    "for item_search in zip(search_strings,search_prices):\n",
    "    final_data.append(item_search)\n",
    "print(final_data)\n",
    "final = np.array(sort_tuples(final_data))\n",
    "print(final)"
   ]
  },
  {
   "cell_type": "markdown",
   "id": "7fc07066-0ab9-4873-92ae-b06abb2ee101",
   "metadata": {
    "jp-MarkdownHeadingCollapsed": true,
    "tags": []
   },
   "source": [
    "# Data Manipulation"
   ]
  },
  {
   "cell_type": "code",
   "execution_count": null,
   "id": "077fd823-7ede-40b1-bb97-2f8942da6f8c",
   "metadata": {},
   "outputs": [],
   "source": [
    "_,test_array = GSS.prices[0]\n",
    "num_list = test_array[:,1].astype(np.float16).tolist()\n",
    "num_list"
   ]
  },
  {
   "cell_type": "code",
   "execution_count": null,
   "id": "294f0c34-5705-40c8-ad90-ae56259d9ace",
   "metadata": {},
   "outputs": [],
   "source": [
    "#Class Already Exists in GoogleSearchManager.py --> Please Use V2 Code for daily use\n",
    "class GoogleShopDataProcessing:\n",
    "    def __init__(self,items: Iterator[np.ndarray]):\n",
    "        self.item_datasets = items\n",
    "        self.float_type = np.float16\n",
    "        self.excel_file_name = \"GoogleSDP_response.xlsx\"\n",
    "    def __convert_to_float_list(self,array: np.array,col: int = 1) -> List[float]:\n",
    "        \"\"\"Helper function to convert string numbers in nd.ndarrays to floating point lists for mathmatical operations\"\"\"\n",
    "        self.data_list = array[:,col].astype(self.float_type).tolist()\n",
    "        return self.data_list\n",
    "    def get_max(self,shop_list: np.ndarray) -> Tuple[str,float]:\n",
    "        \"\"\"return max cost of item\"\"\"\n",
    "        name = shop_list[0,0]\n",
    "        price = shop_list[0,1].astype(self.float_type)\n",
    "        return (name,price)\n",
    "    def get_average(self,shop_list: np.ndarray,length: Optional = None) -> Tuple[str,float]:\n",
    "        if length == None:\n",
    "            length = len(shop_list[:,0])\n",
    "        name = shop_list[0,0]\n",
    "        numbers = shop_list[0:length,1].astype(self.float_type).tolist()\n",
    "        avg = statistics.mean(numbers)\n",
    "        return (name,avg)\n",
    "    def get_variance(self,shop_list: np.ndarray,length: Optional = None) -> Tuple[str,float]:\n",
    "        if length == None:\n",
    "            length = len(shop_list[:,0])\n",
    "        prices = self.__convert_to_float_list(shop_list[0:length,:])\n",
    "        name = shop_list[0,0]\n",
    "        variance = statistics.variance(prices)\n",
    "        return (name,variance)\n",
    "    def all_averages(self,num_rows: Optional[int] = None) -> List[Tuple[str,float]]:\n",
    "        \"\"\"Wrapper of get_average() for self.item_datasets\"\"\"\n",
    "        all_avgs = [self.get_average(array,num_rows) for _,array in self.item_datasets]\n",
    "        return all_avgs\n",
    "    def all_variance(self,num_rows: Optional[int] = None) -> List[Tuple[str,float]]:\n",
    "        \"\"\"Wrapper of get_variance() for self.item_datasets\"\"\"\n",
    "        all_vars = [self.get_variance(array,num_rows) for _,array in self.item_datasets]\n",
    "        return all_vars\n",
    "    def all_max(self) -> List[Tuple[str,float]]:\n",
    "        \"\"\"Wrapper of get_max() for self.item_datasets\"\"\"\n",
    "        all_maxs = [self.get_max(array) for _,array in self.item_datasets]\n",
    "        return all_maxs\n",
    "    def __tuples_to_npArray(self,dataset: List[Tuple[str,float]]) -> np.ndarray:\n",
    "        \"\"\"Helper Function that convert List of Tules to np.ndarray\"\"\"\n",
    "        return np.asarray(dataset)\n",
    "    def __combine_Arrays(self,avgs,variances,maxs) -> pd.DataFrame:\n",
    "        \"\"\"Helper Function that combines shopping information into one dataset for readability\"\"\"\n",
    "        final_dataset = np.column_stack((avgs[:,0],avgs[:,1],maxs[:,1],variances[:,1]))\n",
    "        data = pd.DataFrame(final_dataset)\n",
    "        data.columns =['Part Number', 'Average Price', 'Max', 'Variance']\n",
    "        data[[\"Average Price\",\"Max\",\"Variance\"]] = data[[\"Average Price\",\"Max\",\"Variance\"]].apply(pd.to_numeric)\n",
    "        return data\n",
    "    def get_all(self,num_rows: Optional[int] = None, save_excel: bool = False) -> pd.DataFrame:\n",
    "        \"\"\"gets all statistical properties for list of price objects\"\"\"\n",
    "        avgs = self.__tuples_to_npArray(self.all_averages(num_rows))\n",
    "        variances = self.__tuples_to_npArray(self.all_variance(num_rows))\n",
    "        maxs = self.__tuples_to_npArray(self.all_max())\n",
    "        data = self.__combine_Arrays(avgs,variances,maxs)\n",
    "        \n",
    "        if save_excel:\n",
    "            data.to_excel(self.excel_file_name)\n",
    "            print(\"Excel File Save Succesful\")\n",
    "        return data"
   ]
  },
  {
   "cell_type": "code",
   "execution_count": null,
   "id": "befd6648-765d-4b28-b91f-b357fd57dbae",
   "metadata": {},
   "outputs": [],
   "source": [
    "GSDP = GoogleShopDataProcessing(GSS.prices)"
   ]
  },
  {
   "cell_type": "code",
   "execution_count": null,
   "id": "4aff84e9-32ff-4d35-802f-bda46db44126",
   "metadata": {},
   "outputs": [],
   "source": [
    "data = GSDP.get_all(num_rows=5,save_excel=True)\n",
    "data"
   ]
  },
  {
   "cell_type": "code",
   "execution_count": null,
   "id": "bcf313e1-233d-445b-a4e0-dea31adb9bf2",
   "metadata": {},
   "outputs": [],
   "source": [
    "_,array = GSDP.item_datasets[0]\n",
    "GSDP.get_average(array,length = 5)"
   ]
  },
  {
   "cell_type": "code",
   "execution_count": null,
   "id": "f9c2e5d9-29c2-472d-8548-e05106736aa1",
   "metadata": {},
   "outputs": [],
   "source": [
    "GSDP.get_max(array)"
   ]
  },
  {
   "cell_type": "code",
   "execution_count": null,
   "id": "f4a4da4d-fefd-4a8e-997c-31992ef0fd54",
   "metadata": {},
   "outputs": [],
   "source": [
    "GSDP.get_variance(array,length=8)"
   ]
  },
  {
   "cell_type": "code",
   "execution_count": null,
   "id": "0fff99a2-bd05-43cf-972d-fd0dc263f5fe",
   "metadata": {},
   "outputs": [],
   "source": [
    "avgs"
   ]
  },
  {
   "cell_type": "code",
   "execution_count": null,
   "id": "6dcbfe7f-290a-4ae0-b278-cda41555e9d5",
   "metadata": {},
   "outputs": [],
   "source": [
    "varrs"
   ]
  },
  {
   "cell_type": "code",
   "execution_count": null,
   "id": "50701f06-7020-4ab5-94ec-9cf4e471ad1d",
   "metadata": {},
   "outputs": [],
   "source": [
    "maxs"
   ]
  },
  {
   "cell_type": "code",
   "execution_count": null,
   "id": "ba896686-e9cd-415d-a12c-170c99feda9f",
   "metadata": {},
   "outputs": [],
   "source": [
    "maxs.shape"
   ]
  },
  {
   "cell_type": "markdown",
   "id": "b1c6e447-75e6-4b38-ac6a-43b26cdf92de",
   "metadata": {
    "jp-MarkdownHeadingCollapsed": true,
    "tags": []
   },
   "source": [
    "# xlsx write test code for formatting pandaDataframes"
   ]
  },
  {
   "cell_type": "code",
   "execution_count": null,
   "id": "60bfb9e2-b993-4195-9cf7-90542d35277a",
   "metadata": {},
   "outputs": [],
   "source": [
    "data"
   ]
  },
  {
   "cell_type": "code",
   "execution_count": null,
   "id": "d4142594-78d4-4431-8af4-813a463c05fa",
   "metadata": {},
   "outputs": [],
   "source": [
    "data[[\"Average Price\",\"Max\",\"Variance\"]] = data[[\"Average Price\",\"Max\",\"Variance\"]].apply(pd.to_numeric)\n",
    "data"
   ]
  },
  {
   "cell_type": "code",
   "execution_count": null,
   "id": "9acfac8a-d45b-4f15-9e2a-85a985dabb9e",
   "metadata": {},
   "outputs": [],
   "source": [
    "writer = pd.ExcelWriter('fancy.xlsx', engine='xlsxwriter')\n",
    "df.to_excel(writer, index=False, sheet_name='report')"
   ]
  }
 ],
 "metadata": {
  "kernelspec": {
   "display_name": "walker",
   "language": "python",
   "name": "walker"
  },
  "language_info": {
   "codemirror_mode": {
    "name": "ipython",
    "version": 3
   },
   "file_extension": ".py",
   "mimetype": "text/x-python",
   "name": "python",
   "nbconvert_exporter": "python",
   "pygments_lexer": "ipython3",
   "version": "3.9.7"
  }
 },
 "nbformat": 4,
 "nbformat_minor": 5
}

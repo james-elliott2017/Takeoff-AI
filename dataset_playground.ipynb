{
 "cells": [
  {
   "cell_type": "code",
   "execution_count": 1,
   "id": "83a054c4-2da6-4a25-b151-5888ff442315",
   "metadata": {},
   "outputs": [],
   "source": [
    "import os\n",
    "import pandas as pd\n",
    "pd.set_option(\"display.max_columns\", None)"
   ]
  },
  {
   "cell_type": "code",
   "execution_count": 2,
   "id": "3a2b5119",
   "metadata": {},
   "outputs": [],
   "source": [
    "data_path = r\"S:\\Personal Folders\\Databases\\Cleaned_Dataset.csv\""
   ]
  },
  {
   "cell_type": "code",
   "execution_count": 3,
   "id": "bbe0924d",
   "metadata": {},
   "outputs": [],
   "source": [
    "data = pd.read_csv(data_path,index_col=0)"
   ]
  },
  {
   "cell_type": "code",
   "execution_count": null,
   "id": "8f2a9d32",
   "metadata": {
    "scrolled": true
   },
   "outputs": [],
   "source": [
    "info = list(data)\n",
    "info"
   ]
  },
  {
   "cell_type": "code",
   "execution_count": null,
   "id": "1451c323-1c8b-4c27-8f4b-af4fb11e3a23",
   "metadata": {
    "tags": []
   },
   "outputs": [],
   "source": [
    "data.loc[data[\"Job Number\"]==5602]"
   ]
  },
  {
   "cell_type": "code",
   "execution_count": null,
   "id": "6e57268b",
   "metadata": {},
   "outputs": [],
   "source": [
    "data[\"copper_cables_roughed\"]"
   ]
  },
  {
   "cell_type": "markdown",
   "id": "fb88ab8b",
   "metadata": {},
   "source": [
    "### Calculations\n",
    "The following code is used to calculate the how long work/hour. For example cables pulled/hour, terminations/hour, etc"
   ]
  },
  {
   "cell_type": "code",
   "execution_count": 5,
   "id": "999a27f6",
   "metadata": {},
   "outputs": [],
   "source": [
    "os.getcwd()\n",
    "from FastField_Management.functions.calculation import pd_multi_column\n",
    "import math"
   ]
  },
  {
   "cell_type": "code",
   "execution_count": 6,
   "id": "0cc0c045",
   "metadata": {},
   "outputs": [],
   "source": [
    "labor_type = ('copper_terminated','copper_test_label','copper_cables_roughed','fiber_terminated','fiber_test_labeled')\n",
    "daily_hours = \"crew_total_daily_hours\"\n",
    "calculator = pd_multi_column(data,non_zeros = True)"
   ]
  },
  {
   "cell_type": "code",
   "execution_count": null,
   "id": "4371f0e3",
   "metadata": {},
   "outputs": [],
   "source": [
    "work_per_hour = calculator.multiple_superdivide(labor_type,daily_hours)\n",
    "print(f\"Calculations\\n{work_per_hour[0]}\\n\\nUnits: {work_per_hour[1]}\")"
   ]
  },
  {
   "cell_type": "code",
   "execution_count": null,
   "id": "ecedd755",
   "metadata": {},
   "outputs": [],
   "source": [
    "for key in work_per_hour[0]:\n",
    "    print(f\"{key}: {1/work_per_hour[0][key]}\")"
   ]
  },
  {
   "cell_type": "markdown",
   "id": "643251f7-a5a5-4831-baa8-55319a778c48",
   "metadata": {},
   "source": [
    "1. Summations of Work --> ONLY columns that are needed\n",
    "2. Single File Alert Checks\n",
    "    a. Delay (Implemented in FastField)\n",
    "    b. T&M (Implemented in Fastfield)\n",
    "    c. Overtime\n",
    "    d. work deviation from averages?"
   ]
  },
  {
   "cell_type": "code",
   "execution_count": null,
   "id": "9b819c0a",
   "metadata": {},
   "outputs": [],
   "source": [
    "calculator.dataset"
   ]
  },
  {
   "cell_type": "code",
   "execution_count": 7,
   "id": "702c1d49",
   "metadata": {
    "scrolled": false
   },
   "outputs": [
    {
     "name": "stdout",
     "output_type": "stream",
     "text": [
      "For copper_terminated Column, Jobs [5602] were used.\n",
      "For copper_test_label Column, Jobs [5602] were used.\n",
      "For copper_cables_roughed Column, Jobs [3304, 5602] were used.\n",
      "For fiber_terminated Column, Jobs [4670, 5602] were used.\n",
      "For fiber_test_labeled Column, Jobs [] were used.\n",
      "For fiber_roughed_FT Column, Jobs [4670] were used.\n"
     ]
    },
    {
     "name": "stderr",
     "output_type": "stream",
     "text": [
      "C:\\Users\\james\\OneDrive\\Documents\\Coding Projects\\Python Projects\\Takeoff AI\\FastField_Management\\functions\\calculation.py:82: RuntimeWarning: invalid value encountered in double_scalars\n",
      "  work_per_hour = work/hours\n"
     ]
    }
   ],
   "source": [
    "work_cols = ['copper_terminated','copper_test_label','copper_cables_roughed',\n",
    "             'fiber_terminated','fiber_test_labeled','fiber_roughed_FT']\n",
    "values,_ = calculator.all_multimask(work_cols,daily_hours)"
   ]
  },
  {
   "cell_type": "code",
   "execution_count": 8,
   "id": "dd447e20",
   "metadata": {},
   "outputs": [
    {
     "name": "stdout",
     "output_type": "stream",
     "text": [
      "For fiber_test_labeled Column, Jobs [5602] were used.\n"
     ]
    }
   ],
   "source": [
    "work_cols = ['fiber_test_labeled']\n",
    "values,_ = calculator.all_multimask(work_cols,daily_hours)"
   ]
  },
  {
   "cell_type": "code",
   "execution_count": 9,
   "id": "8843409e",
   "metadata": {},
   "outputs": [
    {
     "name": "stdout",
     "output_type": "stream",
     "text": [
      "fiber_test_labeled: 3.0\n"
     ]
    }
   ],
   "source": [
    "for item in values:\n",
    "    print(f\"{item}: {values[item]}\")"
   ]
  },
  {
   "cell_type": "code",
   "execution_count": null,
   "id": "9dd4d068",
   "metadata": {},
   "outputs": [],
   "source": [
    "tmp = data.loc[0:2]\n",
    "zero = tmp.loc[0,'copper_terminated']\n",
    "NaN = tmp.loc[2,'copper_terminated']"
   ]
  },
  {
   "cell_type": "code",
   "execution_count": null,
   "id": "833d939e",
   "metadata": {},
   "outputs": [],
   "source": [
    "tmp"
   ]
  },
  {
   "cell_type": "code",
   "execution_count": null,
   "id": "c277eb74",
   "metadata": {},
   "outputs": [],
   "source": [
    "(tmp['copper_terminated'] == 0) | tmp['copper_terminated'].isna()"
   ]
  },
  {
   "cell_type": "code",
   "execution_count": null,
   "id": "88d2bedd",
   "metadata": {},
   "outputs": [],
   "source": [
    "tmp['copper_terminated'].isna()"
   ]
  },
  {
   "cell_type": "code",
   "execution_count": null,
   "id": "b5597cf8",
   "metadata": {},
   "outputs": [],
   "source": [
    "tmp.loc[2,\"copper_terminated\"]"
   ]
  }
 ],
 "metadata": {
  "kernelspec": {
   "display_name": "walker",
   "language": "python",
   "name": "walker"
  },
  "language_info": {
   "codemirror_mode": {
    "name": "ipython",
    "version": 3
   },
   "file_extension": ".py",
   "mimetype": "text/x-python",
   "name": "python",
   "nbconvert_exporter": "python",
   "pygments_lexer": "ipython3",
   "version": "3.9.7"
  }
 },
 "nbformat": 4,
 "nbformat_minor": 5
}
